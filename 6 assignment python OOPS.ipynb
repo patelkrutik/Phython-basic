{
 "cells": [
  {
   "cell_type": "code",
   "execution_count": 1,
   "id": "3e355855-c233-4554-bc33-bc0447ff590a",
   "metadata": {},
   "outputs": [],
   "source": [
    "#1.What is Object-Oriented Programming (OOP)?\n",
    "    #->OOP is a programming paradigm based on the concept of \"objects\", which contain data (attributes) and code (methods).\n",
    "    # It helps structure programs into reusable, organized, and modular components."
   ]
  },
  {
   "cell_type": "code",
   "execution_count": 2,
   "id": "871e0505-879f-4106-a822-70696594a778",
   "metadata": {},
   "outputs": [],
   "source": [
    "#2.What is a class in OOP?\n",
    "    #->A class in Object-Oriented Programming is a blueprint or template for creating objects.\n",
    "    #It defines the attributes (data) and methods (functions) that its objects will have."
   ]
  },
  {
   "cell_type": "code",
   "execution_count": 3,
   "id": "0d1d110b-4828-4d02-833d-26e9218b4e39",
   "metadata": {},
   "outputs": [],
   "source": [
    "#3.What is an object in OOP?\n",
    "    #An object is an instance of a class.It represents a real-world entity with its own data (attributes) and behavior (methods)."
   ]
  },
  {
   "cell_type": "code",
   "execution_count": 4,
   "id": "f387f393-1ea4-4331-bbc8-b86ac7489fcb",
   "metadata": {},
   "outputs": [],
   "source": [
    "#4.What is the difference between abstraction and encapsulation?\n",
    "    #Hiding complex logic and showing only essentials / Hiding internal data by restricting direct access\n",
    "    #What the object does (design level) / How the object does it (implementation level)"
   ]
  },
  {
   "cell_type": "code",
   "execution_count": 5,
   "id": "8fcd72e3-9b3b-45cf-a719-48b8dd092671",
   "metadata": {},
   "outputs": [],
   "source": [
    "#5.What are dunder methods in Python?\n",
    "    #Dunder methods (short for “double underscore” methods) are special built-in methods in Python that\n",
    "    #start and end with double underscores, like __init__, __str__, __len__, etc."
   ]
  },
  {
   "cell_type": "code",
   "execution_count": 6,
   "id": "337937da-22ef-43f7-bfb4-feaa455ee829",
   "metadata": {},
   "outputs": [],
   "source": [
    "#6. Explain the concept of inheritance in OOP\n",
    "    #Inheritance is a fundamental OOP concept where one class (child/derived class) inherits the properties and methods of another class (parent/base class).\n",
    "    #It promotes code reuse, extensibility, and hierarchical relationships."
   ]
  },
  {
   "cell_type": "code",
   "execution_count": 7,
   "id": "eae08da3-f10b-4d6c-ad7d-780e668547b5",
   "metadata": {},
   "outputs": [],
   "source": [
    "#7.What is polymorphism in OOP+\n",
    "    #Polymorphism means \"many forms\" — it's the ability of different classes to use the same method name with different implementations.\n",
    "    #It allows functions or methods to behave differently based on the object calling them."
   ]
  },
  {
   "cell_type": "code",
   "execution_count": 8,
   "id": "70cae411-840e-4ae0-a9b2-b83606272551",
   "metadata": {},
   "outputs": [],
   "source": [
    "#8.How is encapsulation achieved in Python?\n",
    "    #Encapsulation is achieved in Python by restricting direct access to class attributes and using methods to access or modify them.\n",
    "    #It protects the internal state of an object and allows controlled interaction through getters and setters."
   ]
  },
  {
   "cell_type": "code",
   "execution_count": 9,
   "id": "59501f1a-ef57-4fe4-bfbd-cf13211dbd43",
   "metadata": {},
   "outputs": [],
   "source": [
    "#9.What is a constructor in Python?\n",
    "    #A constructor in Python is a special method named __init__() that is automatically called when a new object of a class is created.\n",
    "    #Its main purpose is to initialize object attributes"
   ]
  },
  {
   "cell_type": "code",
   "execution_count": 10,
   "id": "897314cd-bf0b-4b1f-943a-8242a270a12c",
   "metadata": {},
   "outputs": [],
   "source": [
    "#10.What are class and static methods in Python?\n",
    "    #Both are methods inside a class, but they serve different purposes and are declared with different decorators."
   ]
  },
  {
   "cell_type": "code",
   "execution_count": 11,
   "id": "fc4adbdd-9c00-421f-97a2-ee8d82b219ff",
   "metadata": {},
   "outputs": [],
   "source": [
    "#11.What is method overloading in Python?\n",
    "    #Method overloading means defining multiple methods with the same name but different parameters."
   ]
  },
  {
   "cell_type": "code",
   "execution_count": 12,
   "id": "eb24a2cb-9225-4c35-8a3a-e0fff2d1bb17",
   "metadata": {},
   "outputs": [],
   "source": [
    "#12. What is method overriding in OOP?\n",
    "    #Method overriding occurs when a child class provides its own version of a method that is already defined in its parent class."
   ]
  },
  {
   "cell_type": "code",
   "execution_count": 13,
   "id": "20b5b9cc-549f-4672-a5e5-e3f4e9b6ebfc",
   "metadata": {},
   "outputs": [],
   "source": [
    "#13.What is a property decorator in Python?\n",
    "    #The @property decorator is used to define getter methods that allow access to private attributes like regular attributes, without calling a method explicitly."
   ]
  },
  {
   "cell_type": "code",
   "execution_count": 14,
   "id": "a071cd3b-a2e3-47bd-8013-88abfb3bc99d",
   "metadata": {},
   "outputs": [],
   "source": [
    "#14.Why is polymorphism important in OOP?\n",
    "    #Polymorphism is crucial in Object-Oriented Programming (OOP) because it allows one interface to be used with different \n",
    "    #types of objects, making code more flexible, maintainable, and extensible."
   ]
  },
  {
   "cell_type": "code",
   "execution_count": 15,
   "id": "bb302010-2995-455e-955c-03af0b92b7c8",
   "metadata": {},
   "outputs": [],
   "source": [
    "#15.What is an abstract class in Python?\n",
    "    #An abstract class is a class that cannot be instantiated directly and is meant to be inherited by other classes.\n",
    "    #It is used to define a common interface for all its subclasses, often with one or more abstract methods"
   ]
  },
  {
   "cell_type": "code",
   "execution_count": 16,
   "id": "9dc6cc73-3565-46fd-9ff5-c4c560b55e48",
   "metadata": {},
   "outputs": [],
   "source": [
    "#16.What are the advantages of OOP?\n",
    "    #OOP improves code structure, reduces duplication, and supports clean, maintainable, and scalable software development."
   ]
  },
  {
   "cell_type": "code",
   "execution_count": 17,
   "id": "288d6d85-ae26-45f0-90fa-3b18381b687a",
   "metadata": {},
   "outputs": [],
   "source": [
    "#17.What is the difference between a class variable and an instance variable?\n",
    "    #Shared across all objects of the class\t/ Unique to each object (instance)\n",
    "    #Inside the class but outside any method / Inside the constructor (__init__) or other instance methods"
   ]
  },
  {
   "cell_type": "code",
   "execution_count": 18,
   "id": "1f23a164-b698-46ad-8dee-4eff73e8e470",
   "metadata": {},
   "outputs": [],
   "source": [
    "#18.What is multiple inheritance in Python?\n",
    "    #Multiple inheritance is a feature in Python where a class can inherit from more than one parent class.\n",
    "    #This allows a child class to access attributes and methods from all its parent classes."
   ]
  },
  {
   "cell_type": "code",
   "execution_count": 19,
   "id": "730d3db7-4a4f-4d07-ab69-0bbc81d23bba",
   "metadata": {},
   "outputs": [],
   "source": [
    "#19.Explain the purpose of ‘’__str__’ and ‘__repr__’ ‘ methods in Python\n",
    "    #Both __str__() and __repr__() are dunder methods (special methods) that control how an object is represented as a string."
   ]
  },
  {
   "cell_type": "code",
   "execution_count": 20,
   "id": "ddefec06-e68f-44c5-8dda-c2816422be83",
   "metadata": {},
   "outputs": [],
   "source": [
    "#20.What is the significance of the ‘super()’ function in Python?\n",
    "    #The super() function is used to call a method from the parent (super) class in a child class, especially within inheritance."
   ]
  },
  {
   "cell_type": "code",
   "execution_count": 21,
   "id": "616a8e44-2063-4601-b134-c90c6cfc9233",
   "metadata": {},
   "outputs": [],
   "source": [
    "#21.What is the significance of the __del__ method in Python?\n",
    "    #The __del__() method is a destructor in Python.\n",
    "    #It is automatically called when an object is about to be destroyed (i.e., when it's garbage collected)."
   ]
  },
  {
   "cell_type": "code",
   "execution_count": 22,
   "id": "6b48571c-bcdf-460f-bf1f-cc5ccf1af4c7",
   "metadata": {},
   "outputs": [],
   "source": [
    "#22.What is the difference between @staticmethod and @classmethod in Python?\n",
    "    #None (no self or cls) / cls (refers to the class)\n",
    "    #Cannot access or modify class/state / Can access or modify class-level data\n",
    "    #Utility methods that don't depend on class / Factory methods or class-related operations"
   ]
  },
  {
   "cell_type": "code",
   "execution_count": 24,
   "id": "88843231-8fae-42c0-9760-635f124d6014",
   "metadata": {},
   "outputs": [],
   "source": [
    "#23.How does polymorphism work in Python with inheritance?\n",
    "    #In Python, polymorphism with inheritance allows different child classes to provide different implementations of a method inherited from a common parent class.\n",
    "    #It enables calling the same method name on different objects, and each responds in its own way."
   ]
  },
  {
   "cell_type": "code",
   "execution_count": 25,
   "id": "c237b90a-8f78-47e2-bd34-215cb1bf687a",
   "metadata": {},
   "outputs": [],
   "source": [
    "#24.What is method chaining in Python OOP?\n",
    "    #"
   ]
  },
  {
   "cell_type": "code",
   "execution_count": 26,
   "id": "739c4d62-5ac6-4fee-b5c9-63387c01fece",
   "metadata": {},
   "outputs": [],
   "source": [
    "#25.What is the purpose of the __call__ method in Python?\n",
    "    #The __call__() method in Python makes an object callable like a function.\n",
    "    #If a class defines __call__(), its instances can be invoked with parentheses (), just like regular functions.\n",
    "\n"
   ]
  },
  {
   "cell_type": "code",
   "execution_count": 28,
   "id": "1c9ec5aa-9d6f-4fe5-a4fd-bd376793d3e6",
   "metadata": {},
   "outputs": [],
   "source": [
    "#practical Questions"
   ]
  },
  {
   "cell_type": "code",
   "execution_count": 29,
   "id": "fba5fd8d-a36d-4a4a-b971-598a692ca000",
   "metadata": {},
   "outputs": [],
   "source": [
    "#1\n",
    "class Animal:\n",
    "    def speak(self):\n",
    "        print(\"The animal makes a sound.\")\n",
    "\n",
    "class Dog(Animal):\n",
    "    def speak(self):\n",
    "        print(\"Bark!\")\n",
    "\n",
    "a = Animal()\n",
    "d = Dog()"
   ]
  },
  {
   "cell_type": "code",
   "execution_count": 30,
   "id": "1127a781-7097-4441-bc89-013524834b21",
   "metadata": {},
   "outputs": [
    {
     "name": "stdout",
     "output_type": "stream",
     "text": [
      "The animal makes a sound.\n"
     ]
    }
   ],
   "source": [
    "a.speak()"
   ]
  },
  {
   "cell_type": "code",
   "execution_count": 31,
   "id": "50c558b4-1cc4-4556-96d1-8495721cd778",
   "metadata": {},
   "outputs": [
    {
     "name": "stdout",
     "output_type": "stream",
     "text": [
      "Bark!\n"
     ]
    }
   ],
   "source": [
    "d.speak()"
   ]
  },
  {
   "cell_type": "code",
   "execution_count": 33,
   "id": "cd189753-bb14-486a-b759-a2d9b6d03519",
   "metadata": {},
   "outputs": [],
   "source": [
    "#2\n",
    "from abc import ABC, abstractmethod\n",
    "import math\n",
    "class Shape(ABC):\n",
    "    @abstractmethod\n",
    "    def area(self):\n",
    "        pass\n",
    "\n",
    "class Circle(Shape):\n",
    "    def __init__(self, radius):\n",
    "        self.radius = radius\n",
    "\n",
    "    def area(self):\n",
    "        return math.pi * self.radius ** 2\n",
    "\n",
    "class Rectangle(Shape):\n",
    "    def __init__(self, length, width):\n",
    "        self.length = length\n",
    "        self.width = width\n",
    "\n",
    "    def area(self):\n",
    "        return self.length * self.width"
   ]
  },
  {
   "cell_type": "code",
   "execution_count": 36,
   "id": "33319bb0-e76d-4f44-8748-9eca9b85f98d",
   "metadata": {},
   "outputs": [],
   "source": [
    "c = Circle(5)\n",
    "r = Rectangle(4, 6)"
   ]
  },
  {
   "cell_type": "code",
   "execution_count": 37,
   "id": "ad4df9fd-ffb4-402b-a289-a64dd3fd7b00",
   "metadata": {},
   "outputs": [
    {
     "data": {
      "text/plain": [
       "78.53981633974483"
      ]
     },
     "execution_count": 37,
     "metadata": {},
     "output_type": "execute_result"
    }
   ],
   "source": [
    "c.area()"
   ]
  },
  {
   "cell_type": "code",
   "execution_count": 38,
   "id": "b5e92d83-156a-430a-b0f0-40c4b0a13d67",
   "metadata": {},
   "outputs": [
    {
     "data": {
      "text/plain": [
       "24"
      ]
     },
     "execution_count": 38,
     "metadata": {},
     "output_type": "execute_result"
    }
   ],
   "source": [
    "r.area()"
   ]
  },
  {
   "cell_type": "code",
   "execution_count": 42,
   "id": "7df48180-432a-4231-a7fc-e1df18878189",
   "metadata": {},
   "outputs": [],
   "source": [
    "#3\n",
    "class Vehicle:\n",
    "    def __init__(self, type):\n",
    "        self.type = type\n",
    "\n",
    "class Car(Vehicle):\n",
    "    def __init__(self, type, brand):\n",
    "        super().__init__(type)\n",
    "        self.brand = brand\n",
    "\n",
    "# Further derived class\n",
    "class ElectricCar(Car):\n",
    "    def __init__(self, type, brand, battery):\n",
    "        super().__init__(type, brand)\n",
    "        self.battery = battery\n",
    "\n",
    "    def display_info(self):\n",
    "        print(f\"Type: {self.type}\")\n",
    "        print(f\"Brand: {self.brand}\")\n",
    "        print(f\"Battery: {self.battery} kWh\")"
   ]
  },
  {
   "cell_type": "code",
   "execution_count": 43,
   "id": "439f0566-c502-456e-8be0-33039bb7c27b",
   "metadata": {},
   "outputs": [
    {
     "name": "stdout",
     "output_type": "stream",
     "text": [
      "Type: Four-wheeler\n",
      "Brand: Tesla\n",
      "Battery: 75 kWh\n"
     ]
    }
   ],
   "source": [
    "ecar = ElectricCar(\"Four-wheeler\", \"Tesla\", 75)\n",
    "ecar.display_info()"
   ]
  },
  {
   "cell_type": "code",
   "execution_count": 3,
   "id": "dd214c41-c78f-4131-9e6b-0d7a3fd881e3",
   "metadata": {},
   "outputs": [],
   "source": [
    "#4\n",
    "class Bird:\n",
    "    def fly(self):\n",
    "        print(\"This bird can fly in a general way.\")\n",
    "\n",
    "class Sparrow(Bird):\n",
    "    def fly(self):\n",
    "        print(\"Sparrow flies high and fast!\")\n",
    "\n",
    "class Penguin(Bird):\n",
    "    def fly(self):\n",
    "        print(\"Penguins cannot fly, but they swim well.\")\n",
    "\n",
    "def show_flight(bird):\n",
    "    bird.fly()"
   ]
  },
  {
   "cell_type": "code",
   "execution_count": 2,
   "id": "d6563416-5c26-45e1-98be-816e7c6dd486",
   "metadata": {},
   "outputs": [],
   "source": [
    "sparrow = Sparrow()\n",
    "penguin = Penguin()"
   ]
  },
  {
   "cell_type": "code",
   "execution_count": 4,
   "id": "a4fafeee-4440-4409-b8b6-f6079f43de2b",
   "metadata": {},
   "outputs": [
    {
     "name": "stdout",
     "output_type": "stream",
     "text": [
      "Sparrow flies high and fast!\n"
     ]
    }
   ],
   "source": [
    "show_flight(sparrow)  "
   ]
  },
  {
   "cell_type": "code",
   "execution_count": 5,
   "id": "e38a419a-4c99-4bb9-9d49-4d71ddf66313",
   "metadata": {},
   "outputs": [
    {
     "name": "stdout",
     "output_type": "stream",
     "text": [
      "Penguins cannot fly, but they swim well.\n"
     ]
    }
   ],
   "source": [
    "show_flight(penguin)"
   ]
  },
  {
   "cell_type": "code",
   "execution_count": 9,
   "id": "bd8ebaf5-190f-46b0-92f6-282355f54f72",
   "metadata": {},
   "outputs": [],
   "source": [
    "#5\n",
    "class Bank:\n",
    "    def __init__(self, balance):\n",
    "        self.__balance = balance\n",
    "    def deposit(self, amount):\n",
    "        self.__balance = self.__balance + amount\n",
    "    def withdraw(self, amount):\n",
    "        if self.__balance >= amount:\n",
    "            self.__balance = self.__balance - amount\n",
    "            return True\n",
    "        else:\n",
    "            return False\n",
    "    def get_balance(self):\n",
    "       return self.__balance\n",
    "            \n",
    "        "
   ]
  },
  {
   "cell_type": "code",
   "execution_count": 10,
   "id": "16b8da3e-fbe9-43e1-8ac0-516addfbddd0",
   "metadata": {},
   "outputs": [],
   "source": [
    "acc1 = Bank(1000)"
   ]
  },
  {
   "cell_type": "code",
   "execution_count": 14,
   "id": "8fbb191f-d0a1-4df1-8085-20a74c4b395d",
   "metadata": {},
   "outputs": [],
   "source": [
    "acc1.deposit(500)"
   ]
  },
  {
   "cell_type": "code",
   "execution_count": 15,
   "id": "4d08d61f-3f15-42f4-8382-5a796a8ed2b7",
   "metadata": {},
   "outputs": [
    {
     "data": {
      "text/plain": [
       "True"
      ]
     },
     "execution_count": 15,
     "metadata": {},
     "output_type": "execute_result"
    }
   ],
   "source": [
    "acc1.withdraw(200)"
   ]
  },
  {
   "cell_type": "code",
   "execution_count": 16,
   "id": "c7c66cfc-5c74-4ef9-9cbd-ed71712dd9b0",
   "metadata": {},
   "outputs": [
    {
     "data": {
      "text/plain": [
       "1300"
      ]
     },
     "execution_count": 16,
     "metadata": {},
     "output_type": "execute_result"
    }
   ],
   "source": [
    "acc1.get_balance()"
   ]
  },
  {
   "cell_type": "code",
   "execution_count": 18,
   "id": "2bb76a00-46b9-4c52-a98e-ea649975ee39",
   "metadata": {},
   "outputs": [],
   "source": [
    "#6\n",
    "class Instrument:\n",
    "    def play(self):\n",
    "        print(\"Playing an instrument.\")\n",
    "\n",
    "class Guitar(Instrument):\n",
    "    def play(self):\n",
    "        print(\"Strumming the guitar.\")\n",
    "\n",
    "class Piano(Instrument):\n",
    "    def play(self):\n",
    "        print(\"Playing the piano keys.\")\n",
    "\n",
    "def perform(instrument):\n",
    "    instrument.play()"
   ]
  },
  {
   "cell_type": "code",
   "execution_count": 19,
   "id": "13ad6b55-e1f0-4be5-939f-41a6d2a250a9",
   "metadata": {},
   "outputs": [],
   "source": [
    "guitar = Guitar()\n",
    "piano = Piano()"
   ]
  },
  {
   "cell_type": "code",
   "execution_count": 20,
   "id": "d3617027-3385-46cf-bda0-f2daa439dd28",
   "metadata": {},
   "outputs": [
    {
     "name": "stdout",
     "output_type": "stream",
     "text": [
      "Strumming the guitar.\n"
     ]
    }
   ],
   "source": [
    "perform(guitar)  "
   ]
  },
  {
   "cell_type": "code",
   "execution_count": 21,
   "id": "ad1fd382-63c8-4e89-83dc-cf14cb6b1677",
   "metadata": {},
   "outputs": [
    {
     "name": "stdout",
     "output_type": "stream",
     "text": [
      "Playing the piano keys.\n"
     ]
    }
   ],
   "source": [
    "perform(piano)   "
   ]
  },
  {
   "cell_type": "code",
   "execution_count": 22,
   "id": "7439db2b-7deb-43ee-84f7-9d6c33436fb5",
   "metadata": {},
   "outputs": [],
   "source": [
    "#7\n",
    "class Math:\n",
    "    @classmethod\n",
    "    def add_numbers(cls, a, b):\n",
    "        return a + b\n",
    "    @staticmethod\n",
    "    def subtract_numbers(a, b):\n",
    "        return a - b"
   ]
  },
  {
   "cell_type": "code",
   "execution_count": 24,
   "id": "f8ea5a1e-10e2-4f5b-89a8-838a805ad1ae",
   "metadata": {},
   "outputs": [
    {
     "data": {
      "text/plain": [
       "11"
      ]
     },
     "execution_count": 24,
     "metadata": {},
     "output_type": "execute_result"
    }
   ],
   "source": [
    "Math.add_numbers(5, 6)"
   ]
  },
  {
   "cell_type": "code",
   "execution_count": 25,
   "id": "2c7d82e5-7d0d-4973-b06d-27317bb4d6db",
   "metadata": {},
   "outputs": [
    {
     "data": {
      "text/plain": [
       "3"
      ]
     },
     "execution_count": 25,
     "metadata": {},
     "output_type": "execute_result"
    }
   ],
   "source": [
    "Math.subtract_numbers(5, 2)"
   ]
  },
  {
   "cell_type": "code",
   "execution_count": 31,
   "id": "38485a14-10c7-4606-ad08-d611df1b3026",
   "metadata": {},
   "outputs": [],
   "source": [
    "#8\n",
    "class Person:\n",
    "    count = 0\n",
    "\n",
    "    def __init__(self, name):\n",
    "        self.name = name\n",
    "        Person.count += 1  \n",
    "\n",
    "    @classmethod\n",
    "    def total_persons(cls):\n",
    "        return cls.count"
   ]
  },
  {
   "cell_type": "code",
   "execution_count": 32,
   "id": "a75726ff-cd65-4864-8e27-b0edd81d6ac0",
   "metadata": {},
   "outputs": [],
   "source": [
    "p1 = Person(\"krutik\")\n",
    "p1 = Person(\"zinkal\")\n",
    "p1 = Person(\"jainish\")"
   ]
  },
  {
   "cell_type": "code",
   "execution_count": 33,
   "id": "c9658a0a-965a-4588-8457-69e74f0ea303",
   "metadata": {},
   "outputs": [
    {
     "name": "stdout",
     "output_type": "stream",
     "text": [
      "Total persons created: 3\n"
     ]
    }
   ],
   "source": [
    "print(f\"Total persons created: {Person.total_persons()}\")"
   ]
  },
  {
   "cell_type": "code",
   "execution_count": 34,
   "id": "57811670-4326-4df4-ab94-5012d259a5c2",
   "metadata": {},
   "outputs": [],
   "source": [
    "#9\n",
    "class Fraction:\n",
    "    def __init__(self, numerator, denominator):\n",
    "        self.numerator = numerator\n",
    "        self.denominator = denominator\n",
    "\n",
    "    def __str__(self):\n",
    "        return f\"{self.numerator}/{self.denominator}\""
   ]
  },
  {
   "cell_type": "code",
   "execution_count": 37,
   "id": "fbe12177-efee-452b-a52e-3df7887d5c8a",
   "metadata": {},
   "outputs": [],
   "source": [
    "f1 = Fraction(3, 4)\n",
    "f2 = Fraction(5, 8)"
   ]
  },
  {
   "cell_type": "code",
   "execution_count": 38,
   "id": "efa70cdc-6874-4f96-ae14-204eebdc4c91",
   "metadata": {},
   "outputs": [
    {
     "name": "stdout",
     "output_type": "stream",
     "text": [
      "First fraction: 3/4\n"
     ]
    }
   ],
   "source": [
    "print(f\"First fraction: {f1}\")"
   ]
  },
  {
   "cell_type": "code",
   "execution_count": 39,
   "id": "33172e77-6e95-409e-8cfe-fa38cb018bf8",
   "metadata": {},
   "outputs": [
    {
     "name": "stdout",
     "output_type": "stream",
     "text": [
      "Second fraction: 5/8\n"
     ]
    }
   ],
   "source": [
    "print(f\"Second fraction: {f2}\")"
   ]
  },
  {
   "cell_type": "code",
   "execution_count": 40,
   "id": "dae12207-c749-4cf4-910b-3bdc8bc56881",
   "metadata": {},
   "outputs": [],
   "source": [
    "#10\n",
    "class Vector:\n",
    "    def __init__(self, x, y):\n",
    "        self.x = x\n",
    "        self.y = y\n",
    "    def __add__(self, other):\n",
    "        return Vector(self.x + other.x, self.y + other.y)\n",
    "    def __str__(self):\n",
    "        return f\"({self.x}, {self.y})\""
   ]
  },
  {
   "cell_type": "code",
   "execution_count": 42,
   "id": "1d0c3858-923b-49f7-8dc3-3d44993ff86c",
   "metadata": {},
   "outputs": [],
   "source": [
    "v1 = Vector(2, 3)\n",
    "v2 = Vector(4, 5)\n",
    "v3 = v1 + v2"
   ]
  },
  {
   "cell_type": "code",
   "execution_count": 43,
   "id": "deedce5b-902d-420e-9733-e8f1b2839cee",
   "metadata": {},
   "outputs": [
    {
     "name": "stdout",
     "output_type": "stream",
     "text": [
      "Vector 1: (2, 3)\n"
     ]
    }
   ],
   "source": [
    "print(f\"Vector 1: {v1}\")"
   ]
  },
  {
   "cell_type": "code",
   "execution_count": 44,
   "id": "4487e85a-fc0a-4e78-a88e-3b23af0e3fb8",
   "metadata": {},
   "outputs": [
    {
     "name": "stdout",
     "output_type": "stream",
     "text": [
      "Vector 2: (4, 5)\n"
     ]
    }
   ],
   "source": [
    "print(f\"Vector 2: {v2}\")"
   ]
  },
  {
   "cell_type": "code",
   "execution_count": 45,
   "id": "8c23a43d-4e85-475b-baed-16a6aea50426",
   "metadata": {},
   "outputs": [
    {
     "name": "stdout",
     "output_type": "stream",
     "text": [
      "Sum: (6, 8)\n"
     ]
    }
   ],
   "source": [
    "print(f\"Sum: {v3}\")"
   ]
  },
  {
   "cell_type": "code",
   "execution_count": 4,
   "id": "8123b0a8-1ca6-43d0-8e61-c163605fecdd",
   "metadata": {},
   "outputs": [],
   "source": [
    "#11\n",
    "class Person:\n",
    "    def __init__(self, name, age):\n",
    "        self.name = name\n",
    "        self.age = age\n",
    "\n",
    "    def greet(self):\n",
    "        print(f\"Hello, my name is {self.name} and I am {self.age} years old.\")"
   ]
  },
  {
   "cell_type": "code",
   "execution_count": 5,
   "id": "2dde3e60-8335-4702-a951-4f5a23b82175",
   "metadata": {},
   "outputs": [],
   "source": [
    "person1 = Person(\"krutik\", 23)"
   ]
  },
  {
   "cell_type": "code",
   "execution_count": 6,
   "id": "99ae81d8-6b1a-4774-8e0e-65853884b6a7",
   "metadata": {},
   "outputs": [
    {
     "name": "stdout",
     "output_type": "stream",
     "text": [
      "Hello, my name is krutik and I am 23 years old.\n"
     ]
    }
   ],
   "source": [
    "person1.greet()"
   ]
  },
  {
   "cell_type": "code",
   "execution_count": 10,
   "id": "6ce97d64-02d3-434f-b10e-4d7dac3f2c68",
   "metadata": {},
   "outputs": [],
   "source": [
    "#12\n",
    "class Student:\n",
    "    def __init__(self, name, grades):\n",
    "        self.name = name\n",
    "        self.grades = grades  \n",
    "\n",
    "    def average_grade(self):\n",
    "        if not self.grades:\n",
    "            return 0\n",
    "        return sum(self.grades) / len(self.grades)"
   ]
  },
  {
   "cell_type": "code",
   "execution_count": 11,
   "id": "4ca01a76-759c-4bf4-9cf3-a2a229a7437f",
   "metadata": {},
   "outputs": [
    {
     "name": "stdout",
     "output_type": "stream",
     "text": [
      "krutik's average grade is: 86.25\n"
     ]
    }
   ],
   "source": [
    "student1 = Student(\"krutik\", [85, 90, 78, 92])\n",
    "print(f\"{student1.name}'s average grade is: {student1.average_grade()}\")"
   ]
  },
  {
   "cell_type": "code",
   "execution_count": 15,
   "id": "80c6abd8-e44d-43ed-9447-44757d724369",
   "metadata": {},
   "outputs": [],
   "source": [
    "#13\n",
    "class Rectangle:\n",
    "    def __init__(self):\n",
    "        self.length = 0\n",
    "        self.width = 0\n",
    "\n",
    "    def set_dimensions(self, length, width):\n",
    "        self.length = length\n",
    "        self.width = width\n",
    "\n",
    "    def area(self):\n",
    "        return self.length * self.width\n",
    "\n",
    "rect = Rectangle()"
   ]
  },
  {
   "cell_type": "code",
   "execution_count": 13,
   "id": "2a1ab632-5969-4160-9401-e5e2ac7ccfed",
   "metadata": {},
   "outputs": [],
   "source": [
    "rect.set_dimensions(5, 3)"
   ]
  },
  {
   "cell_type": "code",
   "execution_count": 14,
   "id": "b744cf0f-6c67-4bb3-a5c5-162a81345686",
   "metadata": {},
   "outputs": [
    {
     "data": {
      "text/plain": [
       "15"
      ]
     },
     "execution_count": 14,
     "metadata": {},
     "output_type": "execute_result"
    }
   ],
   "source": [
    "rect.area()"
   ]
  },
  {
   "cell_type": "code",
   "execution_count": 18,
   "id": "48db4d21-28b0-4da4-b7ba-2841319cf492",
   "metadata": {},
   "outputs": [
    {
     "name": "stdout",
     "output_type": "stream",
     "text": [
      "krutik's salary: 800\n",
      "zinkal's salary with bonus: 1700\n"
     ]
    }
   ],
   "source": [
    "#14\n",
    "class Employee:\n",
    "    def __init__(self, name, hours_worked, hourly_rate):\n",
    "        self.name = name\n",
    "        self.hours_worked = hours_worked\n",
    "        self.hourly_rate = hourly_rate\n",
    "\n",
    "    def calculate_salary(self):\n",
    "        return self.hours_worked * self.hourly_rate\n",
    "\n",
    "class Manager(Employee):\n",
    "    def __init__(self, name, hours_worked, hourly_rate, bonus):\n",
    "        super().__init__(name, hours_worked, hourly_rate)\n",
    "        self.bonus = bonus\n",
    "\n",
    "    def calculate_salary(self):\n",
    "        base_salary = super().calculate_salary()\n",
    "        return base_salary + self.bonus\n",
    "emp = Employee(\"krutik\", 40, 20)\n",
    "print(f\"{emp.name}'s salary: {emp.calculate_salary()}\")\n",
    "\n",
    "mgr = Manager(\"zinkal\", 40, 30, 500)\n",
    "print(f\"{mgr.name}'s salary with bonus: {mgr.calculate_salary()}\")\n"
   ]
  },
  {
   "cell_type": "code",
   "execution_count": 19,
   "id": "369dd96d-344c-495b-80b7-95c382364442",
   "metadata": {},
   "outputs": [],
   "source": [
    "#15\n",
    "class Product:\n",
    "    def __init__(self, name, price, quantity):\n",
    "        self.name = name\n",
    "        self.price = price\n",
    "        self.quantity = quantity\n",
    "\n",
    "    def total_price(self):\n",
    "        return self.price * self.quantity\n"
   ]
  },
  {
   "cell_type": "code",
   "execution_count": 21,
   "id": "556477df-fe69-49c7-87af-0e2e3bb212f9",
   "metadata": {},
   "outputs": [
    {
     "name": "stdout",
     "output_type": "stream",
     "text": [
      "Total price for Laptop: ₹100000\n"
     ]
    }
   ],
   "source": [
    "product1 = Product(\"Laptop\", 50000, 2)\n",
    "print(f\"Total price for {product1.name}: ₹{product1.total_price()}\")"
   ]
  },
  {
   "cell_type": "code",
   "execution_count": 22,
   "id": "84627938-afb6-4dc1-a7be-1384b316bc20",
   "metadata": {},
   "outputs": [
    {
     "name": "stdout",
     "output_type": "stream",
     "text": [
      "Cow sound: Moo\n",
      "Sheep sound: Baa\n"
     ]
    }
   ],
   "source": [
    "#16\n",
    "from abc import ABC, abstractmethod\n",
    "\n",
    "class Animal(ABC):\n",
    "    @abstractmethod\n",
    "    def sound(self):\n",
    "        pass\n",
    "\n",
    "class Cow(Animal):\n",
    "    def sound(self):\n",
    "        return \"Moo\"\n",
    "\n",
    "class Sheep(Animal):\n",
    "    def sound(self):\n",
    "        return \"Baa\"\n",
    "\n",
    "cow = Cow()\n",
    "sheep = Sheep()\n",
    "\n",
    "print(\"Cow sound:\", cow.sound())\n",
    "print(\"Sheep sound:\", sheep.sound())\n"
   ]
  },
  {
   "cell_type": "code",
   "execution_count": 23,
   "id": "a1584e57-6239-42f0-b542-fd90cf312ef3",
   "metadata": {},
   "outputs": [],
   "source": [
    "#17\n",
    "class Book:\n",
    "    def __init__(self, title, author, year_published):\n",
    "        self.title = title\n",
    "        self.author = author\n",
    "        self.year_published = year_published\n",
    "\n",
    "    def get_book_info(self):\n",
    "        return f\"'{self.title}' by {self.author}, published in {self.year_published}\""
   ]
  },
  {
   "cell_type": "code",
   "execution_count": 24,
   "id": "edb7a17f-8bfd-458c-8feb-a211fcbf37ba",
   "metadata": {},
   "outputs": [],
   "source": [
    "book1 = Book(\"To Kill a Mockingbird\", \"Harper Lee\", 1960)"
   ]
  },
  {
   "cell_type": "code",
   "execution_count": 25,
   "id": "cdd0ac7c-8e86-4fff-b89e-d4662a2e08d4",
   "metadata": {},
   "outputs": [
    {
     "name": "stdout",
     "output_type": "stream",
     "text": [
      "'To Kill a Mockingbird' by Harper Lee, published in 1960\n"
     ]
    }
   ],
   "source": [
    "print(book1.get_book_info())"
   ]
  },
  {
   "cell_type": "code",
   "execution_count": 27,
   "id": "bdb658bd-85eb-48d3-9395-ab6644448898",
   "metadata": {},
   "outputs": [],
   "source": [
    "#18\n",
    "class House:\n",
    "    def __init__(self, address, price):\n",
    "        self.address = address\n",
    "        self.price = price\n",
    "\n",
    "    def get_info(self):\n",
    "        return f\"Address: {self.address}, Price: ₹{self.price}\""
   ]
  },
  {
   "cell_type": "code",
   "execution_count": 30,
   "id": "4666cb94-c496-47bb-aff5-7b7392642fb9",
   "metadata": {},
   "outputs": [],
   "source": [
    "house = House(\"123 Ahmedabad\", 5000000)"
   ]
  },
  {
   "cell_type": "code",
   "execution_count": 31,
   "id": "af4180b1-3c1b-4117-adae-f277f6954cb9",
   "metadata": {},
   "outputs": [
    {
     "name": "stdout",
     "output_type": "stream",
     "text": [
      "Address: 123 Ahmedabad, Price: ₹5000000\n"
     ]
    }
   ],
   "source": [
    "print(house.get_info())"
   ]
  },
  {
   "cell_type": "code",
   "execution_count": null,
   "id": "74241132-42df-4c0a-9d5e-da4ab5440152",
   "metadata": {},
   "outputs": [],
   "source": []
  }
 ],
 "metadata": {
  "kernelspec": {
   "display_name": "Python 3 (ipykernel)",
   "language": "python",
   "name": "python3"
  },
  "language_info": {
   "codemirror_mode": {
    "name": "ipython",
    "version": 3
   },
   "file_extension": ".py",
   "mimetype": "text/x-python",
   "name": "python",
   "nbconvert_exporter": "python",
   "pygments_lexer": "ipython3",
   "version": "3.12.7"
  }
 },
 "nbformat": 4,
 "nbformat_minor": 5
}
