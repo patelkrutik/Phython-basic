{
 "cells": [
  {
   "cell_type": "code",
   "execution_count": 1,
   "id": "0481daec-a053-4bff-9b62-956f7bac8926",
   "metadata": {},
   "outputs": [],
   "source": [
    "#1. What are data structures, and why are they important?\n",
    "    #-Data structures are organized ways to store, manage, and retrieve data efficiently. They are important because they enable optimal data processing, helping improve performance and memory usage in programs.\n"
   ]
  },
  {
   "cell_type": "code",
   "execution_count": 2,
   "id": "50c04fda-0b0b-458f-bc11-ca528db37b36",
   "metadata": {},
   "outputs": [],
   "source": [
    "#2. Explain the difference between mutable and immutable data types with examples?\n",
    "    #-Mutable data types can be changed after creation (e.g., list, dict), while immutable data types cannot be altered (e.g., int, str, tuple).\n",
    "    # For example, my_list = [1, 2] can be modified, but my_str = \"hello\" cannot be changed directly."
   ]
  },
  {
   "cell_type": "code",
   "execution_count": 3,
   "id": "fc612bed-ec27-4b62-9188-3109b5182b69",
   "metadata": {},
   "outputs": [],
   "source": [
    "#3. What are the main differences between lists and tuples in Python?\n",
    "    #-Lists are mutable and defined using square brackets [], allowing changes after creation.\n",
    "    # Tuples are immutable, defined using parentheses (), and generally faster and used for fixed data."
   ]
  },
  {
   "cell_type": "code",
   "execution_count": 4,
   "id": "4328c5d9-ab04-414f-be9b-5a8fb7a50f10",
   "metadata": {},
   "outputs": [],
   "source": [
    "#4. Describe how dictionaries store data?\n",
    "    #-Dictionaries store data as key-value pairs inside curly braces {}.\n",
    "    # Each key is unique and maps directly to its associated value for quick access."
   ]
  },
  {
   "cell_type": "code",
   "execution_count": 5,
   "id": "d6358d85-42b1-4698-af03-e9b1b940d0c9",
   "metadata": {},
   "outputs": [],
   "source": [
    "#5. Why might you use a set instead of a list in Python?\n",
    "    #-You might use a set instead of a list to store only unique elements.\n",
    "    #Sets also offer faster membership checks compared to lists."
   ]
  },
  {
   "cell_type": "code",
   "execution_count": 6,
   "id": "29342fdd-53cd-4486-8bd6-ccbe418c6a83",
   "metadata": {},
   "outputs": [],
   "source": [
    "#6. What is a string in Python, and how is it different from a list?\n",
    "    #-A string in Python is an immutable sequence of characters used to store text.\n",
    "    # A list is mutable and can store a mix of data types like numbers, strings, or other lists."
   ]
  },
  {
   "cell_type": "code",
   "execution_count": 7,
   "id": "9bb29c0f-bf07-4caa-ac62-06340012e3b3",
   "metadata": {},
   "outputs": [],
   "source": [
    "#7. How do tuples ensure data integrity in Python?\n",
    "    #-Tuples ensure data integrity by being immutable, meaning their values cannot be changed after creation.\n",
    "    # This prevents accidental modifications and makes data more secure and consistent."
   ]
  },
  {
   "cell_type": "code",
   "execution_count": 8,
   "id": "710e7143-71e6-4754-b0cc-e25eec2ee149",
   "metadata": {},
   "outputs": [],
   "source": [
    "#8. What is a hash table, and how does it relate to dictionaries in Python?\n",
    "    #-A hash table is a data structure that stores key-value pairs using a hash function for fast access.\n",
    "    # In Python, dictionaries are implemented using hash tables to allow quick lookup, insertion, and deletion."
   ]
  },
  {
   "cell_type": "code",
   "execution_count": 9,
   "id": "1058209b-1ed7-42cf-989e-b2d76294535f",
   "metadata": {},
   "outputs": [],
   "source": [
    "#9. Can lists contain different data types in Python?\n",
    "    #-Yes, lists in Python can contain elements of different data types.\n",
    "    # For example, a list can hold integers, strings, floats, or even other lists together."
   ]
  },
  {
   "cell_type": "code",
   "execution_count": 10,
   "id": "9cff145f-9dfd-4cde-989e-5eee32176ba7",
   "metadata": {},
   "outputs": [],
   "source": [
    "#10. Explain why strings are immutable in Python?\n",
    "    #-Strings are immutable in Python to ensure memory efficiency and security.\n",
    "    # Immutability also makes strings hashable, allowing them to be used as dictionary keys."
   ]
  },
  {
   "cell_type": "code",
   "execution_count": 11,
   "id": "24e21e47-2058-4fe6-95f7-5e4b3cf3f722",
   "metadata": {},
   "outputs": [],
   "source": [
    "#11. What advantages do dictionaries offer over lists for certain tasks?\n",
    "    #-Dictionaries offer faster lookups using unique keys instead of searching through indexes.\n",
    "    # They also provide better organization when associating values with specific identifiers."
   ]
  },
  {
   "cell_type": "code",
   "execution_count": 12,
   "id": "cc36a6d2-8cf2-437c-9bd9-086b4eeb73cd",
   "metadata": {},
   "outputs": [],
   "source": [
    "#12. Describe a scenario where using a tuple would be preferable over a list?\n",
    "    #-A tuple is preferable when you need to store constant data that shouldn't change, like coordinates.\n",
    "    # It ensures data integrity and can be used as a key in dictionaries due to its immutability."
   ]
  },
  {
   "cell_type": "code",
   "execution_count": 13,
   "id": "7c0528be-53b7-483b-8f2d-bdacdc2c4d1c",
   "metadata": {},
   "outputs": [],
   "source": [
    "#13. How do sets handle duplicate values in Python?\n",
    "    #-Sets automatically remove duplicate values and only store unique elements.\n",
    "    # If duplicates are added, only one instance is kept in the set."
   ]
  },
  {
   "cell_type": "code",
   "execution_count": 14,
   "id": "f1a2c8f8-4fb8-48a4-92d3-ffc9d3763927",
   "metadata": {},
   "outputs": [],
   "source": [
    "#14. How does the “in” keyword work differently for lists and dictionaries?\n",
    "    #-n lists, the in keyword checks if a value exists among the elements.\n",
    "    # In dictionaries, it checks if a key (not value) exists in the dictionary."
   ]
  },
  {
   "cell_type": "code",
   "execution_count": 15,
   "id": "db08a4d4-0be9-4820-ba95-e049c5654491",
   "metadata": {},
   "outputs": [],
   "source": [
    "#15. Can you modify the elements of a tuple? Explain why or why not?\n",
    "    #-No, you cannot modify the elements of a tuple because tuples are immutable.\n",
    "    # Once created, their contents are fixed and cannot be changed, added, or removed."
   ]
  },
  {
   "cell_type": "code",
   "execution_count": 16,
   "id": "c863133d-251c-4905-8c35-73f2a9dd18c2",
   "metadata": {},
   "outputs": [],
   "source": [
    "#16. What is a nested dictionary, and give an example of its use case?\n",
    "    #-A nested dictionary is a dictionary inside another dictionary to represent complex data.\n",
    "    # Example use case: storing student records with subject-wise marks — {\"John\": {\"Math\": 90, \"Science\": 85}}."
   ]
  },
  {
   "cell_type": "code",
   "execution_count": 17,
   "id": "56c8fe7f-ac45-419a-921e-e0ebf18b8c2b",
   "metadata": {},
   "outputs": [],
   "source": [
    "#17. Describe the time complexity of accessing elements in a dictionary?\n",
    "    #-Accessing elements in a dictionary has an average time complexity of O(1).\n",
    "    # This is due to the underlying hash table which allows constant-time key lookup."
   ]
  },
  {
   "cell_type": "code",
   "execution_count": 18,
   "id": "2ecb2fba-ae24-456c-a3e0-4ba61ef0ccb9",
   "metadata": {},
   "outputs": [],
   "source": [
    "#18. In what situations are lists preferred over dictionaries?\n",
    "    #-Lists are preferred when the order of elements matters or when storing sequences.\n",
    "    # They are ideal for tasks like iteration, indexing by position, or maintaining duplicates."
   ]
  },
  {
   "cell_type": "code",
   "execution_count": 19,
   "id": "6f7c294b-9b44-437c-8b33-05a4bc464dee",
   "metadata": {},
   "outputs": [],
   "source": [
    "#19. Why are dictionaries considered unordered, and how does that affect data retrieval?\n",
    "    #-Dictionaries are considered unordered because their elements are accessed by keys, not positions.\n",
    "    # This means you can't rely on element order unless using Python 3.7+, where insertion order is preserve"
   ]
  },
  {
   "cell_type": "code",
   "execution_count": 20,
   "id": "e9fb5859-579f-433d-9795-3365fe12f1ac",
   "metadata": {},
   "outputs": [],
   "source": [
    "#20. Explain the difference between a list and a dictionary in terms of data retrieval\n",
    "    #-In a list, data is retrieved using numeric indexes starting from 0.\n",
    "    # In a dictionary, data is retrieved using unique keys, allowing faster and more descriptive access."
   ]
  },
  {
   "cell_type": "code",
   "execution_count": 21,
   "id": "ad16518d-d520-4827-806b-abbcd58158f8",
   "metadata": {},
   "outputs": [],
   "source": [
    "#pricital question"
   ]
  },
  {
   "cell_type": "code",
   "execution_count": 23,
   "id": "eadacd5f-8566-471f-9e49-4c685011ab34",
   "metadata": {},
   "outputs": [
    {
     "name": "stdout",
     "output_type": "stream",
     "text": [
      "krutik\n"
     ]
    }
   ],
   "source": [
    "#1\n",
    "k = \"krutik\"\n",
    "print(k)"
   ]
  },
  {
   "cell_type": "code",
   "execution_count": 25,
   "id": "609c51c4-6c52-4c92-9eb9-46b5cfc4e2e0",
   "metadata": {},
   "outputs": [
    {
     "data": {
      "text/plain": [
       "11"
      ]
     },
     "execution_count": 25,
     "metadata": {},
     "output_type": "execute_result"
    }
   ],
   "source": [
    "#2\n",
    "len(\"hello world\")"
   ]
  },
  {
   "cell_type": "code",
   "execution_count": 33,
   "id": "9f2aa6f1-ec90-4a5e-a0f7-aff8eec03be5",
   "metadata": {},
   "outputs": [
    {
     "name": "stdout",
     "output_type": "stream",
     "text": [
      "Pyt\n"
     ]
    }
   ],
   "source": [
    "#3\n",
    "text = \"Python Programming\"\n",
    "sliced = text[:3]\n",
    "print(sliced)"
   ]
  },
  {
   "cell_type": "code",
   "execution_count": 36,
   "id": "2110659d-ee77-4033-9715-1a7ccfa005e4",
   "metadata": {},
   "outputs": [
    {
     "data": {
      "text/plain": [
       "'HELLO'"
      ]
     },
     "execution_count": 36,
     "metadata": {},
     "output_type": "execute_result"
    }
   ],
   "source": [
    "#4\n",
    "a = \"hello\"\n",
    "a.upper()"
   ]
  },
  {
   "cell_type": "code",
   "execution_count": 39,
   "id": "240296fa-39a7-4934-8506-086fefe47b3d",
   "metadata": {},
   "outputs": [
    {
     "data": {
      "text/plain": [
       "'i like orange'"
      ]
     },
     "execution_count": 39,
     "metadata": {},
     "output_type": "execute_result"
    }
   ],
   "source": [
    "#5\n",
    "a = \"i like apple\"\n",
    "a.replace(\"apple\", \"orange\")"
   ]
  },
  {
   "cell_type": "code",
   "execution_count": 40,
   "id": "6ed232dd-7c48-418d-b848-dfada435818e",
   "metadata": {},
   "outputs": [
    {
     "name": "stdout",
     "output_type": "stream",
     "text": [
      "[1, 2, 3, 4, 5]\n"
     ]
    }
   ],
   "source": [
    "#6 \n",
    "n = [1, 2, 3, 4, 5]\n",
    "print(n)"
   ]
  },
  {
   "cell_type": "code",
   "execution_count": 42,
   "id": "88d5a0ef-d7ce-42b4-ac29-60a4d92375bd",
   "metadata": {},
   "outputs": [
    {
     "data": {
      "text/plain": [
       "[1, 2, 3, 4, 10]"
      ]
     },
     "execution_count": 42,
     "metadata": {},
     "output_type": "execute_result"
    }
   ],
   "source": [
    "#7\n",
    "no = [1, 2, 3, 4]\n",
    "no.append(10)\n",
    "no"
   ]
  },
  {
   "cell_type": "code",
   "execution_count": 44,
   "id": "a39ab003-14cb-4255-ab63-6051d30ff743",
   "metadata": {},
   "outputs": [
    {
     "data": {
      "text/plain": [
       "[1, 2, 4, 5]"
      ]
     },
     "execution_count": 44,
     "metadata": {},
     "output_type": "execute_result"
    }
   ],
   "source": [
    "#8\n",
    "no = [1, 2, 3, 4, 5]\n",
    "no.remove(3)\n",
    "no"
   ]
  },
  {
   "cell_type": "code",
   "execution_count": 47,
   "id": "c965c846-2a57-4683-a95f-b8955867ab1a",
   "metadata": {},
   "outputs": [
    {
     "data": {
      "text/plain": [
       "'b'"
      ]
     },
     "execution_count": 47,
     "metadata": {},
     "output_type": "execute_result"
    }
   ],
   "source": [
    "#9\n",
    "l = [\"a\", \"b\", \"c\", \"d\"]\n",
    "l[1]"
   ]
  },
  {
   "cell_type": "code",
   "execution_count": 48,
   "id": "03315995-12f1-404c-93e1-8cf9ce44e4c3",
   "metadata": {},
   "outputs": [
    {
     "data": {
      "text/plain": [
       "[50, 40, 30, 20, 10]"
      ]
     },
     "execution_count": 48,
     "metadata": {},
     "output_type": "execute_result"
    }
   ],
   "source": [
    "#10\n",
    "m = [10, 20, 30, 40, 50]\n",
    "m[::-1]"
   ]
  },
  {
   "cell_type": "code",
   "execution_count": 50,
   "id": "90bbf471-0cc9-41f5-bb9c-55bb4cc97c99",
   "metadata": {},
   "outputs": [
    {
     "name": "stdout",
     "output_type": "stream",
     "text": [
      "(100, 200, 300)\n"
     ]
    }
   ],
   "source": [
    "#11\n",
    "tuple = (100, 200, 300)\n",
    "print(tuple)"
   ]
  },
  {
   "cell_type": "code",
   "execution_count": 51,
   "id": "0909f9e7-1b4b-4349-84ad-473018dd1e07",
   "metadata": {},
   "outputs": [
    {
     "data": {
      "text/plain": [
       "'blue'"
      ]
     },
     "execution_count": 51,
     "metadata": {},
     "output_type": "execute_result"
    }
   ],
   "source": [
    "#12\n",
    "t = ('red', 'green', 'blue', 'yellow')\n",
    "t[-2]"
   ]
  },
  {
   "cell_type": "code",
   "execution_count": 54,
   "id": "4744d3ec-f5bf-4371-ab92-63ab0c04a4b3",
   "metadata": {},
   "outputs": [
    {
     "data": {
      "text/plain": [
       "5"
      ]
     },
     "execution_count": 54,
     "metadata": {},
     "output_type": "execute_result"
    }
   ],
   "source": [
    "#13\n",
    "a = (10, 20, 5, 15)\n",
    "min(a)"
   ]
  },
  {
   "cell_type": "code",
   "execution_count": 56,
   "id": "85c95979-cf9a-4ae3-ad52-013107b6beb4",
   "metadata": {},
   "outputs": [
    {
     "data": {
      "text/plain": [
       "1"
      ]
     },
     "execution_count": 56,
     "metadata": {},
     "output_type": "execute_result"
    }
   ],
   "source": [
    "#14\n",
    "pat = ('dog', 'cat', 'rabbit')\n",
    "pat.index('cat')"
   ]
  },
  {
   "cell_type": "code",
   "execution_count": 58,
   "id": "a6657766-48aa-48d1-a0d0-d855dfa2b89b",
   "metadata": {},
   "outputs": [
    {
     "data": {
      "text/plain": [
       "True"
      ]
     },
     "execution_count": 58,
     "metadata": {},
     "output_type": "execute_result"
    }
   ],
   "source": [
    "#15\n",
    "fruit = (\"apple\", \"banana\", \"kivi\")\n",
    "\"kivi\" in fruit\n"
   ]
  },
  {
   "cell_type": "code",
   "execution_count": 59,
   "id": "7e420fda-c951-4d1e-acba-b6f494bc1610",
   "metadata": {},
   "outputs": [
    {
     "name": "stdout",
     "output_type": "stream",
     "text": [
      "{'a', 'c', 'b'}\n"
     ]
    }
   ],
   "source": [
    "#16\n",
    "set = {'a', 'b', 'c'}\n",
    "print(set)\n"
   ]
  },
  {
   "cell_type": "code",
   "execution_count": 61,
   "id": "ad834622-c6c1-4764-85a2-e32fb45dbf71",
   "metadata": {},
   "outputs": [],
   "source": [
    "#17\n",
    "a = {1, 2, 3, 4, 5}"
   ]
  },
  {
   "cell_type": "code",
   "execution_count": 62,
   "id": "7c7c44af-f47a-4307-a949-c42eeffad388",
   "metadata": {},
   "outputs": [
    {
     "data": {
      "text/plain": [
       "{1, 2, 3, 4, 5}"
      ]
     },
     "execution_count": 62,
     "metadata": {},
     "output_type": "execute_result"
    }
   ],
   "source": [
    "a"
   ]
  },
  {
   "cell_type": "code",
   "execution_count": 69,
   "id": "9129b610-8e57-469f-8e36-43bfeb3d7651",
   "metadata": {},
   "outputs": [],
   "source": [
    "a.clear()"
   ]
  },
  {
   "cell_type": "code",
   "execution_count": 80,
   "id": "7bd5916c-9d9b-40a5-b527-6c9ba4870eee",
   "metadata": {},
   "outputs": [
    {
     "ename": "KeyError",
     "evalue": "2",
     "output_type": "error",
     "traceback": [
      "\u001b[1;31m---------------------------------------------------------------------------\u001b[0m",
      "\u001b[1;31mKeyError\u001b[0m                                  Traceback (most recent call last)",
      "Cell \u001b[1;32mIn[80], line 2\u001b[0m\n\u001b[0;32m      1\u001b[0m \u001b[38;5;66;03m#18\u001b[39;00m\n\u001b[1;32m----> 2\u001b[0m a\u001b[38;5;241m.\u001b[39mremove(\u001b[38;5;241m2\u001b[39m)\n",
      "\u001b[1;31mKeyError\u001b[0m: 2"
     ]
    }
   ],
   "source": [
    "#18\n",
    "a.remove(2)"
   ]
  },
  {
   "cell_type": "code",
   "execution_count": 73,
   "id": "e4abff3e-54e7-4bcd-81e5-5ed097c3c1a0",
   "metadata": {},
   "outputs": [
    {
     "data": {
      "text/plain": [
       "{1, 2, 3, 4, 5}"
      ]
     },
     "execution_count": 73,
     "metadata": {},
     "output_type": "execute_result"
    }
   ],
   "source": [
    "#19\n",
    "set1 = {1, 2, 3}\n",
    "set2 = {3, 4, 5}\n",
    "sets = set1.union(set2)\n",
    "sets"
   ]
  },
  {
   "cell_type": "code",
   "execution_count": 70,
   "id": "37f698bc-2196-45f2-9c12-bf71f351d696",
   "metadata": {},
   "outputs": [
    {
     "data": {
      "text/plain": [
       "set()"
      ]
     },
     "execution_count": 70,
     "metadata": {},
     "output_type": "execute_result"
    }
   ],
   "source": [
    "a"
   ]
  },
  {
   "cell_type": "code",
   "execution_count": 78,
   "id": "7b50c0c5-5176-4c79-96bb-799933f3f747",
   "metadata": {},
   "outputs": [
    {
     "data": {
      "text/plain": [
       "{3}"
      ]
     },
     "execution_count": 78,
     "metadata": {},
     "output_type": "execute_result"
    }
   ],
   "source": [
    "#20\n",
    "int = set1 & set2\n",
    "int"
   ]
  },
  {
   "cell_type": "code",
   "execution_count": 81,
   "id": "d0aaf92e-60ef-4519-9c84-d14e18d8a08b",
   "metadata": {},
   "outputs": [
    {
     "name": "stdout",
     "output_type": "stream",
     "text": [
      "{'name': 'krutik', 'age': 22, 'city': 'Ahmedabad'}\n"
     ]
    }
   ],
   "source": [
    "#21\n",
    "person = {\"name\": \"krutik\", \"age\": 22, \"city\": \"Ahmedabad\"}\n",
    "print(person)"
   ]
  },
  {
   "cell_type": "code",
   "execution_count": 82,
   "id": "cb0a9686-7023-4084-ba09-90c976b98e7d",
   "metadata": {},
   "outputs": [
    {
     "data": {
      "text/plain": [
       "{'name': 'John', 'age': 25, 'country': 'USA'}"
      ]
     },
     "execution_count": 82,
     "metadata": {},
     "output_type": "execute_result"
    }
   ],
   "source": [
    "#22\n",
    "p1 = {'name': 'John', 'age': 25}\n",
    "p1['country'] = 'USA'\n",
    "p1"
   ]
  },
  {
   "cell_type": "code",
   "execution_count": 84,
   "id": "b28cd8f1-ae07-47f8-84eb-385863dae75d",
   "metadata": {},
   "outputs": [
    {
     "name": "stdout",
     "output_type": "stream",
     "text": [
      "John\n"
     ]
    }
   ],
   "source": [
    "#23\n",
    "print(p1[\"name\"])"
   ]
  },
  {
   "cell_type": "code",
   "execution_count": 86,
   "id": "b5d297c5-92b9-4487-be8a-8cf99e5db0c7",
   "metadata": {},
   "outputs": [
    {
     "data": {
      "text/plain": [
       "22"
      ]
     },
     "execution_count": 86,
     "metadata": {},
     "output_type": "execute_result"
    }
   ],
   "source": [
    "#24\n",
    "a = {'name': 'Bob', 'age': 22, 'city': 'New York'}\n",
    "a.pop('age')"
   ]
  },
  {
   "cell_type": "code",
   "execution_count": 87,
   "id": "fbb49cb5-4f75-4f35-9e88-78f8176102d7",
   "metadata": {},
   "outputs": [
    {
     "data": {
      "text/plain": [
       "{'name': 'Bob', 'city': 'New York'}"
      ]
     },
     "execution_count": 87,
     "metadata": {},
     "output_type": "execute_result"
    }
   ],
   "source": [
    "a"
   ]
  },
  {
   "cell_type": "code",
   "execution_count": 88,
   "id": "5488879d-7b94-422f-82ef-4a0e716489c4",
   "metadata": {},
   "outputs": [
    {
     "data": {
      "text/plain": [
       "True"
      ]
     },
     "execution_count": 88,
     "metadata": {},
     "output_type": "execute_result"
    }
   ],
   "source": [
    "#25\n",
    "b = {'name': 'Alice', 'city': 'Paris'}\n",
    "\"city\" in b"
   ]
  },
  {
   "cell_type": "code",
   "execution_count": 89,
   "id": "af175f51-7471-4dbf-940c-782e78db122f",
   "metadata": {},
   "outputs": [
    {
     "name": "stdout",
     "output_type": "stream",
     "text": [
      "[1, 2, 3]\n",
      "('a', 'b', 'c')\n",
      "{'name': 'Alice', 'age': 30}\n"
     ]
    }
   ],
   "source": [
    "#26\n",
    "my_list = [1, 2, 3]\n",
    "my_tuple = ('a', 'b', 'c')\n",
    "my_dict = {'name': 'Alice', 'age': 30}\n",
    "print(my_list)\n",
    "print(my_tuple)\n",
    "print(my_dict)"
   ]
  },
  {
   "cell_type": "code",
   "execution_count": 96,
   "id": "502aa977-ecbc-49a7-a91e-746676f7807d",
   "metadata": {},
   "outputs": [
    {
     "name": "stdout",
     "output_type": "stream",
     "text": [
      "[46, 62, 82, 86, 95]\n"
     ]
    }
   ],
   "source": [
    "#27\n",
    "\n",
    "import random\n",
    "\n",
    "numbers = random.sample(range(1, 101), 5)\n",
    "numbers.sort()\n",
    "print(numbers)\n"
   ]
  },
  {
   "cell_type": "code",
   "execution_count": 98,
   "id": "976b65b8-93ea-4db6-ab47-4dde32ab31f4",
   "metadata": {},
   "outputs": [
    {
     "name": "stdout",
     "output_type": "stream",
     "text": [
      "berry\n"
     ]
    }
   ],
   "source": [
    "#28\n",
    "fruit = [\"apple\", \"banana\", \"cherry\", \"berry\"]\n",
    "print(fruit[3])"
   ]
  },
  {
   "cell_type": "code",
   "execution_count": 100,
   "id": "8102323b-6f32-44e5-b939-9b3ee1a5bd69",
   "metadata": {},
   "outputs": [
    {
     "name": "stdout",
     "output_type": "stream",
     "text": [
      "{'a': 1, 'b': 2, 'c': 3, 'd': 4}\n"
     ]
    }
   ],
   "source": [
    "#29\n",
    "a1 = {'a': 1, 'b': 2}\n",
    "a2 = {'c': 3, 'd': 4}\n",
    "combined = {**a1, **a2}\n",
    "print(combined)"
   ]
  },
  {
   "cell_type": "code",
   "execution_count": 106,
   "id": "e76a0825-c892-4776-aede-9543159fbb88",
   "metadata": {},
   "outputs": [
    {
     "ename": "TypeError",
     "evalue": "'set' object is not callable",
     "output_type": "error",
     "traceback": [
      "\u001b[1;31m---------------------------------------------------------------------------\u001b[0m",
      "\u001b[1;31mTypeError\u001b[0m                                 Traceback (most recent call last)",
      "Cell \u001b[1;32mIn[106], line 3\u001b[0m\n\u001b[0;32m      1\u001b[0m \u001b[38;5;66;03m#30\u001b[39;00m\n\u001b[0;32m      2\u001b[0m abc \u001b[38;5;241m=\u001b[39m [\u001b[38;5;124m\"\u001b[39m\u001b[38;5;124mapple\u001b[39m\u001b[38;5;124m\"\u001b[39m, \u001b[38;5;124m\"\u001b[39m\u001b[38;5;124mbanana\u001b[39m\u001b[38;5;124m\"\u001b[39m, \u001b[38;5;124m\"\u001b[39m\u001b[38;5;124mcharry\u001b[39m\u001b[38;5;124m\"\u001b[39m]\n\u001b[1;32m----> 3\u001b[0m mno \u001b[38;5;241m=\u001b[39m \u001b[38;5;28mset\u001b[39m(abc)\n\u001b[0;32m      4\u001b[0m \u001b[38;5;28mprint\u001b[39m(mno)\n",
      "\u001b[1;31mTypeError\u001b[0m: 'set' object is not callable"
     ]
    }
   ],
   "source": [
    "#30\n",
    "abc = [\"apple\", \"banana\", \"charry\"]\n",
    "mno = set(abc)\n",
    "print(mno)"
   ]
  },
  {
   "cell_type": "code",
   "execution_count": null,
   "id": "7f818ee1-836e-459c-89b3-bc805b972cac",
   "metadata": {},
   "outputs": [],
   "source": []
  }
 ],
 "metadata": {
  "kernelspec": {
   "display_name": "Python 3 (ipykernel)",
   "language": "python",
   "name": "python3"
  },
  "language_info": {
   "codemirror_mode": {
    "name": "ipython",
    "version": 3
   },
   "file_extension": ".py",
   "mimetype": "text/x-python",
   "name": "python",
   "nbconvert_exporter": "python",
   "pygments_lexer": "ipython3",
   "version": "3.12.7"
  }
 },
 "nbformat": 4,
 "nbformat_minor": 5
}
