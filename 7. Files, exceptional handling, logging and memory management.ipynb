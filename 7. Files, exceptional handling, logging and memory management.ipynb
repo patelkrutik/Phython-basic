{
 "cells": [
  {
   "cell_type": "code",
   "execution_count": 1,
   "id": "f537e394-fedd-4e48-ab1b-99d140bf7975",
   "metadata": {},
   "outputs": [],
   "source": [
    "# 1. What is the difference between interpreted and compiled languages?\n",
    "#->Interpreted languages execute code line-by-line using an interpreter, making debugging easier but often slower.\n",
    "#->Compiled languages are translated into machine code before execution, resulting in faster performance but longer compilation time."
   ]
  },
  {
   "cell_type": "code",
   "execution_count": 2,
   "id": "85811098-2258-4061-8228-42447bec4081",
   "metadata": {},
   "outputs": [],
   "source": [
    "#2. What is exception handling in Python?\n",
    "#->Exception handling in Python is a mechanism to handle runtime errors using try, except, else, and finally blocks.\n",
    "#->It helps prevent program crashes by managing errors gracefully during execution."
   ]
  },
  {
   "cell_type": "code",
   "execution_count": 3,
   "id": "6e23f68b-2284-4ef3-b3b3-78d3b4e81a3b",
   "metadata": {},
   "outputs": [],
   "source": [
    "#3.What is the purpose of the finally block in exception handling?\n",
    "#->The finally block is used to define cleanup actions that must be executed, regardless of whether an exception occurred or not.\n",
    "#->It ensures that important code, like closing files or releasing resources, always runs."
   ]
  },
  {
   "cell_type": "code",
   "execution_count": 4,
   "id": "22a5e0a4-ea67-4db2-b190-6e30bd53128d",
   "metadata": {},
   "outputs": [],
   "source": [
    "#4. What is logging in Python?\n",
    "#->Logging in Python is the process of recording messages or events during program execution for debugging or tracking purposes.\n",
    "#->It uses the logging module to log information at different severity levels like DEBUG, INFO, WARNING, ERROR, and CRITICAL"
   ]
  },
  {
   "cell_type": "code",
   "execution_count": 5,
   "id": "d43102f8-9976-4558-aa01-7718d9d0050f",
   "metadata": {},
   "outputs": [],
   "source": [
    "#5.What is the significance of the __del__ method in Python?\n",
    "#->The __del__ method is a destructor called automatically when an object is about to be destroyed.\n",
    "#->It is used to perform cleanup tasks like releasing resources or closing files."
   ]
  },
  {
   "cell_type": "code",
   "execution_count": 6,
   "id": "26c27200-4f86-44eb-9d19-8072bd506766",
   "metadata": {},
   "outputs": [],
   "source": [
    "#6.What is the difference between import and from ... import in Python?\n",
    "#->import module loads the entire module, and you access functions with module.function().\n",
    "#->from module import function imports specific functions or classes directly, so you can use them without the module name."
   ]
  },
  {
   "cell_type": "code",
   "execution_count": 7,
   "id": "4ae30e7d-3d8c-41eb-a9ad-aa43c2586f6e",
   "metadata": {},
   "outputs": [],
   "source": [
    "#7. How can you handle multiple exceptions in Python?\n",
    "#->You can handle multiple exceptions by using multiple except blocks for different exceptions.\n",
    "#->Alternatively, use a single except block with a tuple: except (Error1, Error2):"
   ]
  },
  {
   "cell_type": "code",
   "execution_count": 8,
   "id": "5620da06-42b1-4f83-86e0-0903e02aeed5",
   "metadata": {},
   "outputs": [],
   "source": [
    "#8.What is the purpose of the with statement when handling files in Python?\n",
    "#->The with statement ensures that files are properly opened and automatically closed after the block is executed.\n",
    "#->It helps manage resources efficiently and prevents file-related errors or leaks."
   ]
  },
  {
   "cell_type": "code",
   "execution_count": 9,
   "id": "511a3a9b-bb3f-4e45-8edc-9864c4cc6e49",
   "metadata": {},
   "outputs": [],
   "source": [
    "#9.What is the difference between multithreading and multiprocessing?\n",
    "#->Multithreading runs multiple threads within a single process, sharing memory but limited by the Global Interpreter Lock (GIL).\n",
    "#->Multiprocessing runs multiple processes with separate memory, allowing true parallel execution on multiple CPUs."
   ]
  },
  {
   "cell_type": "code",
   "execution_count": 10,
   "id": "69e30282-b13c-4b4a-a76f-68ca01f71932",
   "metadata": {},
   "outputs": [],
   "source": [
    "#10. What are the advantages of using logging in a program?\n",
    "#->Logging helps track the flow and state of a program, making debugging and monitoring easier.\n",
    "#->It provides a persistent record of events, errors, and performance, useful for maintenance and audits."
   ]
  },
  {
   "cell_type": "code",
   "execution_count": 11,
   "id": "87b4178f-2ea7-4e8a-b702-c74e9b58c8ed",
   "metadata": {},
   "outputs": [],
   "source": [
    "#11. What is memory management in Python?\n",
    "#->Memory management in Python involves allocating and deallocating memory automatically using a private heap space.\n",
    "#->It includes built-in garbage collection to reclaim unused memory, improving efficiency and performance."
   ]
  },
  {
   "cell_type": "code",
   "execution_count": 12,
   "id": "91a6de3b-062f-42ff-96e5-3e78b6724a3e",
   "metadata": {},
   "outputs": [],
   "source": [
    "#12. What are the basic steps involved in exception handling in Python?\n",
    "#->Use a try block to write code that may raise an exception.\n",
    "#->Use except to catch and handle specific exceptions, optionally adding else and finally blocks."
   ]
  },
  {
   "cell_type": "code",
   "execution_count": 13,
   "id": "bdfbe4c1-825f-4f0c-b6a8-c9e6cba5fb3b",
   "metadata": {},
   "outputs": [],
   "source": [
    "#13.Why is memory management important in Python?\n",
    "#->Memory management ensures efficient use of system resources, preventing memory leaks and program crashes.\n",
    "#->It helps maintain performance and stability by automatically handling allocation and cleanup of memory."
   ]
  },
  {
   "cell_type": "code",
   "execution_count": 14,
   "id": "7da493ae-50e5-4c5f-87a6-6710164e915f",
   "metadata": {},
   "outputs": [],
   "source": [
    "#14.What is the role of try and except in exception handling0\n",
    "#->The try block contains code that might raise an exception during execution.\n",
    "#->The except block catches and handles the exception, preventing the program from crashing."
   ]
  },
  {
   "cell_type": "code",
   "execution_count": 15,
   "id": "c1608e5a-f8b6-4a59-8fb9-3eeb655bd28a",
   "metadata": {},
   "outputs": [],
   "source": [
    "#15.How does Python's garbage collection system work?\n",
    "#->Python’s garbage collection uses reference counting and a cyclic garbage collector to reclaim unused memory.\n",
    "#->It automatically deletes objects when their reference count drops to zero or detects unreachable object cycles."
   ]
  },
  {
   "cell_type": "code",
   "execution_count": 16,
   "id": "dd189eb8-d16c-4c46-a3f8-f0f6bf772686",
   "metadata": {},
   "outputs": [],
   "source": [
    "#16.What is the purpose of the else block in exception handling?\n",
    "#->The else block runs code only if no exceptions occur in the try block.\n",
    "#->It’s used to separate error-free logic from error-handling logic for clarity."
   ]
  },
  {
   "cell_type": "code",
   "execution_count": 17,
   "id": "222d37c4-d304-4c87-b611-7e9c54d91b1a",
   "metadata": {},
   "outputs": [],
   "source": [
    "#17. What are the common logging levels in Python?\n",
    "#->The common logging levels in Python are: DEBUG, INFO, WARNING, ERROR, and CRITICAL.\n",
    "#->They indicate the severity of events, from detailed diagnostic messages to serious error conditions."
   ]
  },
  {
   "cell_type": "code",
   "execution_count": 18,
   "id": "43efb88e-5891-4642-9037-0e5f63383ed0",
   "metadata": {},
   "outputs": [],
   "source": [
    "#18. What is the difference between os.fork() and multiprocessing in Python?\n",
    "#->os.fork() creates a child process by duplicating the current process, available only on Unix-based systems.\n",
    "#->multiprocessing is a cross-platform module that creates processes using a high-level API and offers better control and flexibility."
   ]
  },
  {
   "cell_type": "code",
   "execution_count": 19,
   "id": "93402f66-5925-46eb-811c-56458da288cf",
   "metadata": {},
   "outputs": [],
   "source": [
    "#19. What is the importance of closing a file in Python?\n",
    "#->Closing a file in Python ensures that all data is properly written to disk and system resources are released.\n",
    "#->It prevents data loss, file corruption, and resource leaks in long-running programs."
   ]
  },
  {
   "cell_type": "code",
   "execution_count": 20,
   "id": "591416df-09a6-4a55-b6b7-b5487f1534a5",
   "metadata": {},
   "outputs": [],
   "source": [
    "#20. What is the difference between file.read() and file.readline() in Python?\n",
    "#->file.read() reads the entire content of a file at once or a specified number of characters.\n",
    "#->file.readline() reads only a single line from the file each time it's called."
   ]
  },
  {
   "cell_type": "code",
   "execution_count": 21,
   "id": "47451cc0-8a47-495c-be81-bce70059f356",
   "metadata": {},
   "outputs": [],
   "source": [
    "#21. What is the logging module in Python used for?\n",
    "#->The logging module in Python is used to record log messages from applications for debugging and monitoring.\n",
    "#->It supports different severity levels and flexible output options like console, files, or remote servers."
   ]
  },
  {
   "cell_type": "code",
   "execution_count": 22,
   "id": "2efdce25-d204-42d0-b656-3abfcd21808e",
   "metadata": {},
   "outputs": [],
   "source": [
    "#22. What is the os module in Python used for in file handling?\n",
    "#->The os module in Python provides functions to interact with the operating system.\n",
    "#->In file handling, it helps with tasks like creating, deleting, renaming, and navigating directories or files."
   ]
  },
  {
   "cell_type": "code",
   "execution_count": 23,
   "id": "4427668f-7e46-4d52-999c-c235256e00f8",
   "metadata": {},
   "outputs": [],
   "source": [
    "#23. What are the challenges associated with memory management in Python?\n",
    "#->Challenges in Python memory management include managing reference cycles and preventing memory leaks in long-running applications.\n",
    "#->Efficient use of resources can be tricky with large data structures or improper use of global variable"
   ]
  },
  {
   "cell_type": "code",
   "execution_count": 24,
   "id": "1e14b419-4302-45d6-9957-1aa7f59650b5",
   "metadata": {},
   "outputs": [],
   "source": [
    "#24.  How do you raise an exception manually in Python?\n",
    "#->You can raise an exception manually using the raise statement in Python.\n",
    "#->Example: raise TypeError(\"This is a manually raised exception\")."
   ]
  },
  {
   "cell_type": "code",
   "execution_count": 25,
   "id": "341e6994-3b54-4cfc-82a6-1d9f6e72059c",
   "metadata": {},
   "outputs": [],
   "source": [
    "#25. Why is it important to use multithreading in certain applications?\n",
    "#->Multithreading is important for applications that perform I/O-bound tasks, as it allows concurrent execution and better responsiveness.\n",
    "#->It helps improve performance by utilizing idle time during waiting operations like file access or network calls."
   ]
  },
  {
   "cell_type": "code",
   "execution_count": 26,
   "id": "6585f686-c25a-4006-8dab-e129ac4aa4db",
   "metadata": {},
   "outputs": [],
   "source": [
    "#Practical Question"
   ]
  },
  {
   "cell_type": "code",
   "execution_count": 27,
   "id": "ab84f206-d3f1-4964-a526-a715e579f938",
   "metadata": {},
   "outputs": [],
   "source": [
    "#1.How can you open a file for writing in Python and write a string to it\n",
    "with open(\"file.txt\", \"w\") as f:\n",
    "    f.write(\"Hello, world!\")"
   ]
  },
  {
   "cell_type": "code",
   "execution_count": 29,
   "id": "7544dee0-9dcb-44a0-90e0-37967cdb67ba",
   "metadata": {},
   "outputs": [
    {
     "ename": "ValueError",
     "evalue": "I/O operation on closed file.",
     "output_type": "error",
     "traceback": [
      "\u001b[1;31m---------------------------------------------------------------------------\u001b[0m",
      "\u001b[1;31mValueError\u001b[0m                                Traceback (most recent call last)",
      "Cell \u001b[1;32mIn[29], line 2\u001b[0m\n\u001b[0;32m      1\u001b[0m \u001b[38;5;66;03m#2. Write a Python program to read the contents of a file and print each line?\u001b[39;00m\n\u001b[1;32m----> 2\u001b[0m \u001b[38;5;28;01mfor\u001b[39;00m line \u001b[38;5;129;01min\u001b[39;00m f:\n\u001b[0;32m      3\u001b[0m     \u001b[38;5;28mprint\u001b[39m(line\u001b[38;5;241m.\u001b[39mstrip())\n",
      "\u001b[1;31mValueError\u001b[0m: I/O operation on closed file."
     ]
    }
   ],
   "source": [
    "    #2. Write a Python program to read the contents of a file and print each line?\n",
    "    for line in f:\n",
    "        print(line.strip())\n"
   ]
  },
  {
   "cell_type": "code",
   "execution_count": 2,
   "id": "7f93803a-0e1a-4022-8869-1cb3d2087950",
   "metadata": {},
   "outputs": [
    {
     "name": "stdout",
     "output_type": "stream",
     "text": [
      "Hello, world!\n"
     ]
    }
   ],
   "source": [
    "#3 How would you handle a case where the file doesn't exist while trying to open it for reading\n",
    "try:\n",
    "    with open(\"file.txt\", \"r\") as f:\n",
    "        print(f.read())\n",
    "except FileNotFoundError:\n",
    "    print(\"The file does not exist.\")"
   ]
  },
  {
   "cell_type": "code",
   "execution_count": 4,
   "id": "5122c193-8e7a-4d91-9077-60ba132611ac",
   "metadata": {},
   "outputs": [],
   "source": [
    "#4. Write a Python script that reads from one file and writes its content to another file?\n",
    "with open(\"file.txt\", \"r\") as source:\n",
    "    content = source.read()\n",
    "\n",
    "with open(\"destination.txt\", \"w\") as destination:\n",
    "    destination.write(content)"
   ]
  },
  {
   "cell_type": "code",
   "execution_count": 5,
   "id": "145755b0-23ac-4111-b6cc-f32281280cd9",
   "metadata": {},
   "outputs": [
    {
     "name": "stdout",
     "output_type": "stream",
     "text": [
      "Cannot divide by zero.\n"
     ]
    }
   ],
   "source": [
    "#5.How would you catch and handle division by zero error in Python\n",
    "try:\n",
    "    result = 10 / 0\n",
    "except ZeroDivisionError:\n",
    "    print(\"Cannot divide by zero.\")"
   ]
  },
  {
   "cell_type": "code",
   "execution_count": 8,
   "id": "4310b5e2-ea1f-45e8-b714-83e628f998bc",
   "metadata": {},
   "outputs": [],
   "source": [
    "#6.Write a Python program that logs an error message to a log file when a division by zero exception occurs?\n",
    "import logging\n",
    "\n",
    "logging.basicConfig(filename='error.log', level=logging.ERROR)\n",
    "\n",
    "try:\n",
    "    result = 10 / 0\n",
    "except ZeroDivisionError as e:\n",
    "    logging.error(f\"Division by zero error: {e}\")\n"
   ]
  },
  {
   "cell_type": "code",
   "execution_count": 9,
   "id": "88a26e20-e4d2-4a8d-8895-0e1777367c58",
   "metadata": {},
   "outputs": [],
   "source": [
    "#7.How do you log information at different levels (INFO, ERROR, WARNING) in Python using the logging module\n",
    "import logging\n",
    "\n",
    "logging.basicConfig(level=logging.DEBUG)\n",
    "\n",
    "logging.info(\"This is an info message.\")\n",
    "logging.warning(\"This is a warning message.\")\n",
    "logging.error(\"This is an error message.\")\n"
   ]
  },
  {
   "cell_type": "code",
   "execution_count": 10,
   "id": "262ae92a-dc31-412e-b726-646cae07a5e8",
   "metadata": {},
   "outputs": [
    {
     "name": "stdout",
     "output_type": "stream",
     "text": [
      "Error: The file could not be found.\n"
     ]
    }
   ],
   "source": [
    "#8Write a program to handle a file opening error using exception handling\n",
    "try:\n",
    "    with open(\"nonexistent_file.txt\", \"r\") as f:\n",
    "        content = f.read()\n",
    "        print(content)\n",
    "except FileNotFoundError:\n",
    "    print(\"Error: The file could not be found.\")\n"
   ]
  },
  {
   "cell_type": "code",
   "execution_count": 11,
   "id": "1613afd0-2260-40e2-a34e-b4d836935ea4",
   "metadata": {},
   "outputs": [],
   "source": [
    "#9How can you read a file line by line and store its content in a list in Python\n",
    "with open(\"file.txt\", \"r\") as f:\n",
    "    lines = f.readlines()"
   ]
  },
  {
   "cell_type": "code",
   "execution_count": 12,
   "id": "3ce391a3-a41f-4775-bb07-4cf9cca29c26",
   "metadata": {},
   "outputs": [],
   "source": [
    "#10.How can you append data to an existing file in Python\n",
    "\n",
    "with open(\"file.txt\", \"a\") as f:\n",
    "    f.write(\"New data to append\\n\")\n"
   ]
  },
  {
   "cell_type": "code",
   "execution_count": 13,
   "id": "6e3e1541-c93b-4b90-939a-79b604313b60",
   "metadata": {},
   "outputs": [
    {
     "name": "stdout",
     "output_type": "stream",
     "text": [
      "The key 'email' does not exist in the dictionary.\n"
     ]
    }
   ],
   "source": [
    "#11Write a Python program that uses a try-except block to handle an error when attempting to access a dictionary key that doesn't exist?\n",
    "# Define a sample dictionary\n",
    "data = {\n",
    "    \"name\": \"krutik\",\n",
    "    \"age\": 23\n",
    "}\n",
    "try:\n",
    "    value = data[\"email\"]\n",
    "    print(f\"Email: {value}\")\n",
    "except KeyError:\n",
    "    print(\"The key 'email' does not exist in the dictionary.\")\n"
   ]
  },
  {
   "cell_type": "code",
   "execution_count": 14,
   "id": "eaec6ba8-2bd3-4119-a01f-330281d898cf",
   "metadata": {},
   "outputs": [
    {
     "name": "stdout",
     "output_type": "stream",
     "text": [
      "Processing item: 42\n",
      "Result: 0.23809523809523808\n",
      "Done processing.\n",
      "\n",
      "Processing item: foo\n",
      "ValueError: Could not convert the item to an integer.\n",
      "Done processing.\n",
      "\n",
      "Processing item: None\n",
      "TypeError: Unsupported operation with the given item.\n",
      "Done processing.\n",
      "\n"
     ]
    }
   ],
   "source": [
    "#12 Write a program that demonstrates using multiple except blocks to handle different types of exceptions?\n",
    "# Sample program to demonstrate multiple except blocks\n",
    "\n",
    "input_values = [\"42\", \"foo\", None]\n",
    "\n",
    "for item in input_values:\n",
    "    try:\n",
    "        print(f\"Processing item: {item}\")\n",
    "        num = int(item)\n",
    "        result = 10 / num \n",
    "        print(f\"Result: {result}\")\n",
    "    except ValueError:\n",
    "        print(\"ValueError: Could not convert the item to an integer.\")\n",
    "    except ZeroDivisionError:\n",
    "        print(\"ZeroDivisionError: Attempted to divide by zero.\")\n",
    "    except TypeError:\n",
    "        print(\"TypeError: Unsupported operation with the given item.\")\n",
    "    finally:\n",
    "        print(\"Done processing.\\n\")\n"
   ]
  },
  {
   "cell_type": "code",
   "execution_count": 16,
   "id": "d55eeaf2-ae86-4791-8fb3-71d2ccf5a7ae",
   "metadata": {},
   "outputs": [
    {
     "name": "stdout",
     "output_type": "stream",
     "text": [
      "The file exists.\n"
     ]
    }
   ],
   "source": [
    "#13 How would you check if a file exists before attempting to read it in Python?\n",
    "import os\n",
    "\n",
    "if os.path.isfile('file.txt'):\n",
    "    print(\"The file exists.\")\n",
    "else:\n",
    "    print(\"The file does not exist.\")\n"
   ]
  },
  {
   "cell_type": "code",
   "execution_count": 17,
   "id": "1b3bc259-8862-4ccf-b382-bbc85fbc033e",
   "metadata": {},
   "outputs": [],
   "source": [
    "#14 Write a program that uses the logging module to log both informational and error messages\n",
    "import logging\n",
    "\n",
    "logging.basicConfig(\n",
    "    level=logging.INFO,  \n",
    "    format='%(asctime)s [%(levelname)s] %(message)s',\n",
    "    datefmt='%Y-%m-%d %H:%M:%S'\n",
    ")\n",
    "\n",
    "def divide(a, b):\n",
    "    logging.info(f\"Attempting to divide {a} by {b}\")\n",
    "    try:\n",
    "        result = a / b\n",
    "        logging.info(f\"Division successful: {result}\")\n",
    "        return result\n",
    "    except ZeroDivisionError as e:\n",
    "        logging.error(f\"Error occurred: {e}\")\n",
    "        return None\n",
    "\n",
    "divide(10, 2)\n",
    "divide(10, 0)\n"
   ]
  },
  {
   "cell_type": "code",
   "execution_count": 18,
   "id": "1bdfadc6-00be-41c1-837c-5040362e3c79",
   "metadata": {},
   "outputs": [
    {
     "name": "stdout",
     "output_type": "stream",
     "text": [
      "Error: The file 'example.txt' was not found.\n"
     ]
    }
   ],
   "source": [
    "#15 Write a Python program that prints the content of a file and handles the case when the file is empty\n",
    "def read_file_content(filename):\n",
    "    try:\n",
    "        with open(filename, 'r') as file:\n",
    "            content = file.read()\n",
    "\n",
    "            if content.strip(): \n",
    "                print(\"File content:\")\n",
    "                print(content)\n",
    "            else:\n",
    "                print(\"The file is empty.\")\n",
    "    except FileNotFoundError:\n",
    "        print(f\"Error: The file '{filename}' was not found.\")\n",
    "    except IOError as e:\n",
    "        print(f\"An I/O error occurred: {e}\")\n",
    "\n",
    "# Example usage\n",
    "filename = 'example.txt' \n",
    "read_file_content(filename)"
   ]
  },
  {
   "cell_type": "code",
   "execution_count": null,
   "id": "fab9acd5-7b17-4754-ba65-d0ef1f3c5974",
   "metadata": {},
   "outputs": [],
   "source": [
    "#16  Demonstrate how to use memory profiling to check the memory usage of a small program\n",
    "from memory_profiler import profile\n",
    "\n",
    "@profile\n",
    "def allocate_memory():\n",
    "    a = [i for i in range(10000)]         \n",
    "    b = [i ** 2 for i in range(10000)]    \n",
    "    return a, b\n",
    "\n",
    "if __name__ == \"__main__\":\n",
    "    allocate_memory()"
   ]
  },
  {
   "cell_type": "code",
   "execution_count": null,
   "id": "4c397b43-39d9-412b-b4ff-5e1490b2da7f",
   "metadata": {},
   "outputs": [],
   "source": [
    "#17 rite a Python program to create and write a list of numbers to a file, one number per line\n",
    "def write_numbers_to_file(filename, numbers):\n",
    "    try:\n",
    "        with open(filename, 'w') as file:\n",
    "            for number in numbers:\n",
    "                file.write(f\"{number}\\n\")\n",
    "        print(f\"Successfully wrote {len(numbers)} numbers to '{filename}'.\")\n",
    "    except IOError as e:\n",
    "        print(f\"An error occurred while writing to the file: {e}\")\n",
    "\n",
    "# Example usage\n",
    "numbers_list = list(range(1, 11))  # Numbers from 1 to 10\n",
    "file_name = \"numbers.txt\"\n",
    "write_numbers_to_file(file_name, numbers_list)\n"
   ]
  },
  {
   "cell_type": "code",
   "execution_count": null,
   "id": "426655af-87a3-4e9e-9722-901b1d718081",
   "metadata": {},
   "outputs": [],
   "source": [
    "#18 How would you implement a basic logging setup that logs to a file with rotation after 1MB?\n",
    "import logging\n",
    "from logging.handlers import RotatingFileHandler\n",
    "\n",
    "# Create logger\n",
    "logger = logging.getLogger(\"my_logger\")\n",
    "logger.setLevel(logging.INFO)\n",
    "\n",
    "handler = RotatingFileHandler(\n",
    "    \"app.log\", \n",
    "    maxBytes=1 * 1024 * 1024, \n",
    "    backupCount=5                \n",
    ")\n",
    "\n",
    "formatter = logging.Formatter(\n",
    "    '%(asctime)s - %(name)s - %(levelname)s - %(message)s'\n",
    ")\n",
    "handler.setFormatter(formatter)\n",
    "\n",
    "logger.addHandler(handler)\n",
    "\n",
    "logger.info(\"This is a test log entry.\")\n"
   ]
  },
  {
   "cell_type": "code",
   "execution_count": 23,
   "id": "0e4cbde5-09f0-46d8-aab2-e5048245d9fc",
   "metadata": {},
   "outputs": [
    {
     "name": "stdout",
     "output_type": "stream",
     "text": [
      "Caught IndexError: Index does not exist in the list.\n"
     ]
    }
   ],
   "source": [
    "#19 Write a program that handles both IndexError and KeyError using a try-except block?\n",
    "data_list = [10, 20, 30]\n",
    "data_dict = {'a': 1, 'b': 2}\n",
    "\n",
    "try:\n",
    "    print(\"List value:\", data_list[5])\n",
    "    \n",
    "    print(\"Dict value:\", data_dict['z'])\n",
    "except IndexError:\n",
    "    print(\"Caught IndexError: Index does not exist in the list.\")\n",
    "except KeyError:\n",
    "    print(\"Caught KeyError: Key does not exist in the dictionary.\")\n"
   ]
  },
  {
   "cell_type": "code",
   "execution_count": 25,
   "id": "9ec0f928-59e6-4722-aee7-be535b2d26a3",
   "metadata": {},
   "outputs": [
    {
     "name": "stdout",
     "output_type": "stream",
     "text": [
      "Hello, world!\n"
     ]
    }
   ],
   "source": [
    "#20 How would you open a file and read its contents using a context manager in Python?\n",
    "# Open and read the entire file\n",
    "with open('destination.txt', 'r') as file:\n",
    "    content = file.read()\n",
    "    print(content)"
   ]
  },
  {
   "cell_type": "code",
   "execution_count": null,
   "id": "c939b26e-0afb-4ef7-99c3-947aeb4c012b",
   "metadata": {},
   "outputs": [],
   "source": [
    "#21 Write a Python program that reads a file and prints the number of occurrences of a specific word?\n",
    "def count_word_occurrences(filename, destination.txt):\n",
    "    try:\n",
    "        with open(filename, 'r') as file:\n",
    "            content = file.read()\n",
    "\n",
    "        content = content.lower()\n",
    "        target_word = target_word.lower()\n",
    "\n",
    "        for ch in \",.!?;:'\\\"()[]{}\":\n",
    "            content = content.replace(ch, \" \")\n",
    "\n",
    "        words = content.split()\n",
    "        count = words.count(target_word)\n",
    "        print(f\"The word '{target_word}' occurs {count} times in '{filename}'.\")\n",
    "    except FileNotFoundError:\n",
    "        print(f\"Error: File '{filename}' was not found.\")\n",
    "    except IOError as e:\n"
   ]
  },
  {
   "cell_type": "code",
   "execution_count": null,
   "id": "34b1343b-162e-41af-8593-31d7e5b9ca09",
   "metadata": {},
   "outputs": [],
   "source": [
    "#22 How can you check if a file is empty before attempting to read its contents?\n",
    "import os\n",
    "\n",
    "file_path = 'example.txt'\n",
    "\n",
    "if os.path.getsize(file_path) == 0:\n",
    "    print(\"File is empty\")\n",
    "else:\n",
    "    with open(file_path, 'r') as file:\n",
    "        content = file.read()\n",
    "        print(content)"
   ]
  },
  {
   "cell_type": "code",
   "execution_count": null,
   "id": "a969af44-f3e8-45c1-b395-10ef34062918",
   "metadata": {},
   "outputs": [],
   "source": [
    "#23 Write a Python program that writes to a log file when an error occurs during file handling.\n",
    "import logging\n",
    "\n",
    "logging.basicConfig(\n",
    "    filename='error_log.txt',      \n",
    "    level=logging.ERROR,                \n",
    "    format='%(asctime)s - %(levelname)s - %(message)s'\n",
    ")\n",
    "\n",
    "def read_file(filename):\n",
    "    try:\n",
    "        with open(filename, 'r') as file:\n",
    "            content = file.read()\n",
    "            print(\"File contents:\\n\", content)\n",
    "    except (FileNotFoundError, IOError) as e:\n",
    "        print(f\"An error occurred while reading '{filename}'. Check the log file for details.\")\n",
    "        logging.error(f\"Error reading file '{filename}': {e}\")\n",
    "\n",
    "filename = 'non_existing_file.txt' \n",
    "read_file(filename)\n"
   ]
  }
 ],
 "metadata": {
  "kernelspec": {
   "display_name": "Python 3 (ipykernel)",
   "language": "python",
   "name": "python3"
  },
  "language_info": {
   "codemirror_mode": {
    "name": "ipython",
    "version": 3
   },
   "file_extension": ".py",
   "mimetype": "text/x-python",
   "name": "python",
   "nbconvert_exporter": "python",
   "pygments_lexer": "ipython3",
   "version": "3.12.7"
  }
 },
 "nbformat": 4,
 "nbformat_minor": 5
}
