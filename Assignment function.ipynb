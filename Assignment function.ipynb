{
 "cells": [
  {
   "cell_type": "code",
   "execution_count": 1,
   "id": "844868d0-c526-4c9d-a5ac-8d6cf7ce9f69",
   "metadata": {},
   "outputs": [],
   "source": [
    "#1. What is the difference between a function and a method in Python?\n",
    "    #->A function is a block of reusable code defined using def, while a method is a function associated with an object/class.\n",
    "    #Example: len(\"hello\") is a function, \"hello\".upper() is a method."
   ]
  },
  {
   "cell_type": "code",
   "execution_count": 2,
   "id": "636ff4ea-0965-4fa4-8028-96983b9fd763",
   "metadata": {},
   "outputs": [],
   "source": [
    "#2.  Explain the concept of function arguments and parameters in Python\n",
    "    #->Parameters are variables listed in a function definition; arguments are the actual values passed to the function when it is called.\n",
    "    #Example: In def greet(name):, name is a parameter; in greet(\"Alice\"), \"Alice\" is the argument."
   ]
  },
  {
   "cell_type": "code",
   "execution_count": 3,
   "id": "385c6bce-f8a7-4ec6-a8d7-129a453eb9a3",
   "metadata": {},
   "outputs": [],
   "source": [
    "#3. What are the different ways to define and call a function in Python?\n",
    "    #->You can define a function using def or lambda, and call it by using its name followed by parentheses.\n",
    "    #Example: def add(x, y): return x + y → add(2, 3) or lambda x, y: x + y → (lambda x, y: x + y)(2, 3)."
   ]
  },
  {
   "cell_type": "code",
   "execution_count": 4,
   "id": "a252dd02-fcbd-4dc6-bbdd-a7594a1f7b2b",
   "metadata": {},
   "outputs": [],
   "source": [
    "#4. What is the purpose of the `return` statement in a Python function?\n",
    "    #->he return statement sends a value back from the function to the caller and ends the function’s execution.\n",
    "    #Example: def square(x): return x*x → square(4) returns 16."
   ]
  },
  {
   "cell_type": "code",
   "execution_count": 5,
   "id": "5f9caab6-7af0-4e63-9768-207b66b5aa26",
   "metadata": {},
   "outputs": [],
   "source": [
    "#5. What are iterators in Python and how do they differ from iterables?\n",
    "    #->terables are objects like lists or strings that can be looped over, while iterators are objects created from iterables using iter(), which produce items one at a time using next().\n",
    "    #Example: nums = [1, 2, 3] is an iterable; it = iter(nums) is an iterator."
   ]
  },
  {
   "cell_type": "code",
   "execution_count": 6,
   "id": "0202ea1f-ba6f-42e0-be48-76c73e60b54a",
   "metadata": {},
   "outputs": [],
   "source": [
    "#6. Explain the concept of generators in Python and how they are defined.\n",
    "    #->Generators are special functions that yield values one at a time using the yield keyword, saving memory.\n",
    "#Example:\n",
    "#def gen():  \n",
    "#    yield 1  \n",
    "#    yield 2  \n",
    "#Calling gen() returns a generator object."
   ]
  },
  {
   "cell_type": "code",
   "execution_count": 7,
   "id": "6f218b0b-afec-4a06-a04f-41879ba7cc05",
   "metadata": {},
   "outputs": [],
   "source": [
    "#7. What are the advantages of using generators over regular functions?\n",
    "    #->Generators save memory and improve performance by yielding items one at a time, instead of storing them all in memory.\n",
    "    #Example: range(10**6) vs (x for x in range(10**6)) — the latter uses less memory."
   ]
  },
  {
   "cell_type": "code",
   "execution_count": 8,
   "id": "69a2d9a3-1d16-47b8-8653-543e673760f0",
   "metadata": {},
   "outputs": [],
   "source": [
    "#8. What is a lambda function in Python and when is it typically used?\n",
    "    #->A lambda function is an anonymous, one-line function used for short, simple operations.\n",
    "    #Example: lambda x: x * 2 is often used in functions like map() or filter()."
   ]
  },
  {
   "cell_type": "code",
   "execution_count": 9,
   "id": "a76aaa9d-3a38-4c86-be11-628a1cbf9f8f",
   "metadata": {},
   "outputs": [],
   "source": [
    "#9. Explain the purpose and usage of the `map()` function in Python.\n",
    "    #->The map() function applies a given function to all items in an iterable and returns a map object (iterator).\n",
    "    #Example: map(lambda x: x*2, [1, 2, 3]) gives [2, 4, 6] when converted to a list."
   ]
  },
  {
   "cell_type": "code",
   "execution_count": 10,
   "id": "2098b90a-c836-40f6-a207-2af451462eba",
   "metadata": {},
   "outputs": [],
   "source": [
    "#10. What is the difference between `map()`, `reduce()`, and `filter()` functions in Python?\n",
    "    #->map() applies a function to each item,\n",
    "\n",
    "#filter() selects items based on a condition,\n",
    "\n",
    "#reduce() combines all items into a single value.\n",
    "\n",
    "#Example:\n",
    "#from functools import reduce  \n",
    "#map(lambda x: x*2, [1, 2]) → [2, 4]  \n",
    "#filter(lambda x: x%2==0, [1, 2]) → [2]  \n",
    "#reduce(lambda x,y: x+y, [1,2,3]) → 6  "
   ]
  },
  {
   "cell_type": "code",
   "execution_count": 11,
   "id": "e587f2e3-12f6-46a4-b95e-bd3cce4c4f4c",
   "metadata": {},
   "outputs": [],
   "source": [
    "#11. using  reduce function on this given\n",
    "#list:[47,11,42,13];\n"
   ]
  },
  {
   "cell_type": "code",
   "execution_count": 14,
   "id": "116434e7-64b1-4f82-b508-c703ecb332d0",
   "metadata": {},
   "outputs": [],
   "source": [
    "#Practical question"
   ]
  },
  {
   "cell_type": "code",
   "execution_count": 20,
   "id": "aba49212-ed0a-43be-b2a8-87290b64a2f5",
   "metadata": {},
   "outputs": [],
   "source": [
    "#1. Write a Python function that takes a list of numbers as input and returns the sum of all even numbers in the list\n",
    "#->\n",
    "numbers = [1, 2, 3, 4, 5, 6, 7, 8, 9, 10]\n",
    "def even(numbers):\n",
    "    return sum(num for num in numbers if num % 2 ==0)"
   ]
  },
  {
   "cell_type": "code",
   "execution_count": 22,
   "id": "8571b91c-85d5-45ad-aa40-956c8391c3ba",
   "metadata": {},
   "outputs": [
    {
     "data": {
      "text/plain": [
       "30"
      ]
     },
     "execution_count": 22,
     "metadata": {},
     "output_type": "execute_result"
    }
   ],
   "source": [
    "even(numbers)\n"
   ]
  },
  {
   "cell_type": "code",
   "execution_count": 23,
   "id": "1c688f95-49be-41a9-9964-85c79b1b5bd2",
   "metadata": {},
   "outputs": [],
   "source": [
    "#2. Create a Python function that accepts a string and returns the reverse of that string.\n",
    "#->\n",
    "def RS(s):\n",
    "    return s[::-1]\n"
   ]
  },
  {
   "cell_type": "code",
   "execution_count": 24,
   "id": "ffb81e5c-262f-420b-9fea-a43f009ff989",
   "metadata": {},
   "outputs": [
    {
     "data": {
      "text/plain": [
       "'olleh'"
      ]
     },
     "execution_count": 24,
     "metadata": {},
     "output_type": "execute_result"
    }
   ],
   "source": [
    "RS(\"hello\")"
   ]
  },
  {
   "cell_type": "code",
   "execution_count": 25,
   "id": "a9988af5-0335-42f3-9f8b-516837a5d537",
   "metadata": {},
   "outputs": [],
   "source": [
    "#3. Implement a Python function that takes a list of integers and returns a new list containing the squares of each number.\n",
    "#->\n",
    "def square(numbers):\n",
    "    return [x**2 for x in numbers]"
   ]
  },
  {
   "cell_type": "code",
   "execution_count": 26,
   "id": "7c3ed6a8-f231-492e-961e-d05d195fa2af",
   "metadata": {},
   "outputs": [
    {
     "data": {
      "text/plain": [
       "[1, 4, 9, 16, 25, 36, 49, 64, 81, 100]"
      ]
     },
     "execution_count": 26,
     "metadata": {},
     "output_type": "execute_result"
    }
   ],
   "source": [
    "square(numbers)"
   ]
  },
  {
   "cell_type": "code",
   "execution_count": 27,
   "id": "016a97fe-1fba-4df3-8ff0-b446274b292e",
   "metadata": {},
   "outputs": [],
   "source": [
    "#4. Write a Python function that checks if a given number is prime or not from 1 to 200\n",
    "#->\n",
    "def is_prime(n):\n",
    "    if n < 2:                        \n",
    "        return False\n",
    "    for i in range(2, int(n**0.5)+1):\n",
    "        if n % i == 0:\n",
    "            return False\n",
    "    return True        "
   ]
  },
  {
   "cell_type": "code",
   "execution_count": 28,
   "id": "cc0bf711-fcd4-4cd3-9a52-800a44ac3f5c",
   "metadata": {},
   "outputs": [
    {
     "data": {
      "text/plain": [
       "True"
      ]
     },
     "execution_count": 28,
     "metadata": {},
     "output_type": "execute_result"
    }
   ],
   "source": [
    "is_prime(17)"
   ]
  },
  {
   "cell_type": "code",
   "execution_count": 29,
   "id": "a44b7bde-c11a-46ad-b213-59ba80624e44",
   "metadata": {},
   "outputs": [
    {
     "data": {
      "text/plain": [
       "False"
      ]
     },
     "execution_count": 29,
     "metadata": {},
     "output_type": "execute_result"
    }
   ],
   "source": [
    "is_prime(100)"
   ]
  },
  {
   "cell_type": "code",
   "execution_count": 30,
   "id": "93a9c90b-a3db-4bc6-b6cb-54bb7e4a2180",
   "metadata": {},
   "outputs": [],
   "source": [
    "#5. Create an iterator class in Python that generates the Fibonacci sequence up to a specified number of terms.\n",
    "#->\n",
    "def fib(n):\n",
    "    a = 0\n",
    "    b = 1\n",
    "    for i in range(n): #if n=5, 0, 1, 2, 3, 4\n",
    "        yield a\n",
    "        a, b = b, a+b"
   ]
  },
  {
   "cell_type": "code",
   "execution_count": 35,
   "id": "73d26404-400c-466b-b443-914714a625ac",
   "metadata": {},
   "outputs": [],
   "source": [
    "f = fib(10)"
   ]
  },
  {
   "cell_type": "code",
   "execution_count": 37,
   "id": "22c3b75a-7680-4b43-a503-1525ef5cc2b7",
   "metadata": {},
   "outputs": [
    {
     "data": {
      "text/plain": [
       "1"
      ]
     },
     "execution_count": 37,
     "metadata": {},
     "output_type": "execute_result"
    }
   ],
   "source": [
    "next(f)"
   ]
  },
  {
   "cell_type": "code",
   "execution_count": 38,
   "id": "afcff3e5-330c-4c05-9711-6eddf1c18ffc",
   "metadata": {},
   "outputs": [
    {
     "data": {
      "text/plain": [
       "1"
      ]
     },
     "execution_count": 38,
     "metadata": {},
     "output_type": "execute_result"
    }
   ],
   "source": [
    "next(f)"
   ]
  },
  {
   "cell_type": "code",
   "execution_count": 39,
   "id": "3a92a226-4eba-4f83-b2b6-d5ebe124b0cb",
   "metadata": {},
   "outputs": [
    {
     "data": {
      "text/plain": [
       "2"
      ]
     },
     "execution_count": 39,
     "metadata": {},
     "output_type": "execute_result"
    }
   ],
   "source": [
    "next(f)"
   ]
  },
  {
   "cell_type": "code",
   "execution_count": 40,
   "id": "85167d20-d34d-4bfb-9256-27289dedd6ab",
   "metadata": {},
   "outputs": [
    {
     "data": {
      "text/plain": [
       "3"
      ]
     },
     "execution_count": 40,
     "metadata": {},
     "output_type": "execute_result"
    }
   ],
   "source": [
    "next(f)"
   ]
  },
  {
   "cell_type": "code",
   "execution_count": 41,
   "id": "db610e76-e5c4-4154-bb5c-3f5d7813e703",
   "metadata": {},
   "outputs": [
    {
     "data": {
      "text/plain": [
       "5"
      ]
     },
     "execution_count": 41,
     "metadata": {},
     "output_type": "execute_result"
    }
   ],
   "source": [
    "next(f)\n"
   ]
  },
  {
   "cell_type": "code",
   "execution_count": 42,
   "id": "13e63539-946e-4413-aecd-fd733a569b15",
   "metadata": {},
   "outputs": [
    {
     "data": {
      "text/plain": [
       "8"
      ]
     },
     "execution_count": 42,
     "metadata": {},
     "output_type": "execute_result"
    }
   ],
   "source": [
    "next(f)"
   ]
  },
  {
   "cell_type": "code",
   "execution_count": 43,
   "id": "18de5529-0296-4593-8a42-c77de37fba32",
   "metadata": {},
   "outputs": [
    {
     "data": {
      "text/plain": [
       "13"
      ]
     },
     "execution_count": 43,
     "metadata": {},
     "output_type": "execute_result"
    }
   ],
   "source": [
    "next(f)"
   ]
  },
  {
   "cell_type": "code",
   "execution_count": 44,
   "id": "5689f3a1-d9ac-44d4-b02d-e74fcf259cb2",
   "metadata": {},
   "outputs": [
    {
     "data": {
      "text/plain": [
       "21"
      ]
     },
     "execution_count": 44,
     "metadata": {},
     "output_type": "execute_result"
    }
   ],
   "source": [
    "next(f)"
   ]
  },
  {
   "cell_type": "code",
   "execution_count": 45,
   "id": "6ead2075-9ff7-480f-92f9-f82643d19c20",
   "metadata": {},
   "outputs": [
    {
     "data": {
      "text/plain": [
       "34"
      ]
     },
     "execution_count": 45,
     "metadata": {},
     "output_type": "execute_result"
    }
   ],
   "source": [
    "next(f)"
   ]
  },
  {
   "cell_type": "code",
   "execution_count": 46,
   "id": "86aa1e9f-48c1-4854-9a02-35fe20cac076",
   "metadata": {},
   "outputs": [
    {
     "ename": "StopIteration",
     "evalue": "",
     "output_type": "error",
     "traceback": [
      "\u001b[1;31m---------------------------------------------------------------------------\u001b[0m",
      "\u001b[1;31mStopIteration\u001b[0m                             Traceback (most recent call last)",
      "Cell \u001b[1;32mIn[46], line 1\u001b[0m\n\u001b[1;32m----> 1\u001b[0m \u001b[38;5;28mnext\u001b[39m(f)\n",
      "\u001b[1;31mStopIteration\u001b[0m: "
     ]
    }
   ],
   "source": [
    "next(f)"
   ]
  },
  {
   "cell_type": "code",
   "execution_count": 50,
   "id": "af3268a4-4bfb-4994-9168-07252979994f",
   "metadata": {},
   "outputs": [],
   "source": [
    "#6. Write a generator function in Python that yields the powers of 2 up to a given exponent.\n",
    "#->\n",
    "def square(n):\n",
    "    result = []\n",
    "    for i in range(n):\n",
    "        yield i ** 2"
   ]
  },
  {
   "cell_type": "code",
   "execution_count": 51,
   "id": "d37e338d-1d04-4054-8a08-0a5fb1a0d30d",
   "metadata": {},
   "outputs": [
    {
     "data": {
      "text/plain": [
       "<generator object square at 0x0000020C25C03D30>"
      ]
     },
     "execution_count": 51,
     "metadata": {},
     "output_type": "execute_result"
    }
   ],
   "source": [
    "square(5)"
   ]
  },
  {
   "cell_type": "code",
   "execution_count": 53,
   "id": "0dac797a-3a80-4121-a065-8ae93b44995c",
   "metadata": {},
   "outputs": [
    {
     "name": "stdout",
     "output_type": "stream",
     "text": [
      "0 1 4 9 16 "
     ]
    }
   ],
   "source": [
    "for a in square(5):\n",
    "    print(a, end=' ')"
   ]
  },
  {
   "cell_type": "code",
   "execution_count": 54,
   "id": "839a6e38-9438-44e2-97fa-2a70a82be00a",
   "metadata": {},
   "outputs": [],
   "source": [
    "#7.  Implement a generator function that reads a file line by line and yields each line as a string.\n",
    "#->\n",
    "def read_file_lines(filename):\n",
    "    with open(filename, 'r') as file:\n",
    "        for line in file:\n",
    "            yield line.strip() "
   ]
  },
  {
   "cell_type": "code",
   "execution_count": 57,
   "id": "c87e0949-1da9-4757-b02d-79cb903fdc29",
   "metadata": {},
   "outputs": [
    {
     "ename": "TypeError",
     "evalue": "read_file_lines() missing 1 required positional argument: 'filename'",
     "output_type": "error",
     "traceback": [
      "\u001b[1;31m---------------------------------------------------------------------------\u001b[0m",
      "\u001b[1;31mTypeError\u001b[0m                                 Traceback (most recent call last)",
      "Cell \u001b[1;32mIn[57], line 1\u001b[0m\n\u001b[1;32m----> 1\u001b[0m read_file_lines()\n",
      "\u001b[1;31mTypeError\u001b[0m: read_file_lines() missing 1 required positional argument: 'filename'"
     ]
    }
   ],
   "source": [
    "read_file_lines()"
   ]
  },
  {
   "cell_type": "code",
   "execution_count": 58,
   "id": "a7046e89-3774-4161-80b4-21d64d1a3dc3",
   "metadata": {},
   "outputs": [
    {
     "name": "stdout",
     "output_type": "stream",
     "text": [
      "[(2, 1), (4, 2), (1, 3)]\n"
     ]
    }
   ],
   "source": [
    "#8. Use a lambda function in Python to sort a list of tuples based on the second element of each tuple.\n",
    "#->\n",
    "data = [(1, 3), (2, 1), (4, 2)]\n",
    "sorted_data = sorted(data, key=lambda x: x[1])\n",
    "print(sorted_data)"
   ]
  },
  {
   "cell_type": "code",
   "execution_count": 60,
   "id": "de2732bd-e4d0-4491-8702-6dd940907733",
   "metadata": {},
   "outputs": [
    {
     "name": "stdout",
     "output_type": "stream",
     "text": [
      "[32.0, 68.0, 86.0, 104.0]\n"
     ]
    }
   ],
   "source": [
    "#9.  Write a Python program that uses `map()` to convert a list of temperatures from Celsius to Fahrenheit.\n",
    "#->\n",
    "celsius = [0, 20, 30, 40]\n",
    "fahrenheit = list(map(lambda c: (c * 9/5) + 32, celsius))\n",
    "print(fahrenheit)"
   ]
  },
  {
   "cell_type": "code",
   "execution_count": 61,
   "id": "e4edf1c2-3116-4448-b7ef-23d104940859",
   "metadata": {},
   "outputs": [],
   "source": [
    "#10. Create a Python program that uses `filter()` to remove all the vowels from a given string.\n",
    "#->\n"
   ]
  },
  {
   "cell_type": "code",
   "execution_count": 62,
   "id": "564c8d7b-adb9-40e2-bfef-9d3038cd5613",
   "metadata": {},
   "outputs": [],
   "source": [
    "#11.Imagine an accounting routine used in a book shop. It works on a list with sublists, which look like this:"
   ]
  },
  {
   "cell_type": "code",
   "execution_count": null,
   "id": "5f548467-b17f-42ea-9c5f-b03fec5a66e7",
   "metadata": {},
   "outputs": [],
   "source": []
  }
 ],
 "metadata": {
  "kernelspec": {
   "display_name": "Python 3 (ipykernel)",
   "language": "python",
   "name": "python3"
  },
  "language_info": {
   "codemirror_mode": {
    "name": "ipython",
    "version": 3
   },
   "file_extension": ".py",
   "mimetype": "text/x-python",
   "name": "python",
   "nbconvert_exporter": "python",
   "pygments_lexer": "ipython3",
   "version": "3.12.7"
  }
 },
 "nbformat": 4,
 "nbformat_minor": 5
}
