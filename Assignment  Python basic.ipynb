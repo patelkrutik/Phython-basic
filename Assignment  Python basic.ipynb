{
 "cells": [
  {
   "cell_type": "raw",
   "id": "89ec18ee-da56-49e7-8caf-d339a279adae",
   "metadata": {},
   "source": [
    "Python Basics Questions"
   ]
  },
  {
   "cell_type": "raw",
   "id": "afd11508-de86-4f45-aa33-9c49c3929c1e",
   "metadata": {},
   "source": [
    "1. What is Python, and why is it popular?\n",
    "\n",
    "Python is a high-level, interpreted programming language developed by Guido van Rossum and first released in 1991. It is known for its simple, easy-to-read syntax that makes it beginner-friendly and efficient for developers.\n",
    "\n",
    "Python is popular because:\n",
    "a. It is easy to learn and write, similar to English.\n",
    "b. It supports multiple programming styles like object-oriented and procedural.\n",
    "c. It has a large standard library and third-party modules for web development, data analysis, machine learning, and more.\n",
    "d. It is cross-platform and works on Windows, Mac, and Linux.\n",
    "e. It has a strong community that contributes to continuous development and support."
   ]
  },
  {
   "cell_type": "raw",
   "id": "a0c18f9d-bb32-46c1-8b35-90bb8391dad8",
   "metadata": {},
   "source": [
    "2. What is an interpreter in Python?\n",
    "\n",
    "An interpreter in Python is a program that reads and executes Python code line by line. It converts the high-level Python code into machine-readable instructions during runtime, which means the code is executed directly without compiling it into a separate file.\n",
    "Python uses an interpreter instead of a compiler, which makes debugging easier and helps developers see the output immediately after running the code.\n",
    "\n",
    "Example: When we write print(\"Hello\"), the interpreter executes that line instantly and shows the result."
   ]
  },
  {
   "cell_type": "raw",
   "id": "527dd447-df71-42b7-8adc-41f9ca4386a3",
   "metadata": {},
   "source": [
    "3. What are pre-defined keywords in Python?\n",
    "\n",
    "Examples of Python keywords include:\n",
    "if, else, while, for, def, class, import, True, False, None, etc."
   ]
  },
  {
   "cell_type": "raw",
   "id": "33e0cf02-76e9-4e79-ac03-e3407c64905b",
   "metadata": {},
   "source": [
    "4. Can keywords be used as variable names \n",
    "No, keywords cannot be used as variable names in Python. Keywords are reserved words that have special meaning in the language, such as controlling the flow of a program or defining functions and classes.\n",
    "\n",
    "Using a keyword as a variable name will cause a syntax error."
   ]
  },
  {
   "cell_type": "raw",
   "id": "117213d3-f57c-48f1-b821-8c3fdb6f8ac7",
   "metadata": {},
   "source": [
    "5. What is mutability in Python?\n",
    "Mutability in Python refers to whether an object’s value can be changed after it is created.\n",
    "Mutable objects: Their values can be changed in place.\n",
    "Examples: list, dict, set\n",
    "Immutable objects: Their values cannot be changed after creation.\n",
    "Examples: int, float, str, tuple"
   ]
  },
  {
   "cell_type": "raw",
   "id": "d6588b0e-bf8a-4058-b042-3d5f30156249",
   "metadata": {},
   "source": [
    "6. Why are lists mutable, but tuples are immutable?\n",
    "\n",
    "In Python, lists are mutable because they are designed to store collections of items that can change — you can add, remove, or modify elements in a list after it's created.\n",
    "\n",
    "Tuples are immutable because they are used to store fixed collections of data. Once a tuple is created, its contents cannot be changed. This makes tuples faster and safer for storing constant or read-only data."
   ]
  },
  {
   "cell_type": "raw",
   "id": "f53d3198-6e94-48b6-84df-fa880343391b",
   "metadata": {},
   "source": [
    "7. What is the difference between == and is operators in Python?\n",
    "\n",
    "(==)checks for value equality – it returns True if the values of two objects are the same.\n",
    "\n",
    "(is) checks for identity – it returns True if two variables point to the same object in memory."
   ]
  },
  {
   "cell_type": "raw",
   "id": "3f83ef2b-79c7-4929-b86e-69295fa32461",
   "metadata": {},
   "source": [
    "8. What are logical operators in Python?\n",
    "\n",
    "Logical operators in Python are used to perform logical operations on Boolean values (True or False). They are mainly used in conditional statements and expressions.\n",
    "\n",
    "Python has three logical operators:\n",
    "\n",
    "and – Returns True if both conditions are True.\n",
    "\n",
    "or – Returns True if at least one condition is True.\n",
    "\n",
    "not – Reverses the Boolean value (True becomes False, and vice versa)."
   ]
  },
  {
   "cell_type": "raw",
   "id": "a68570ca-48bf-47d8-902d-d8ce64dcc91f",
   "metadata": {},
   "source": [
    "9. What is type casting in Python?\n",
    "Python provides built-in functions for type casting, such as:\n",
    "\n",
    "int() – Converts to integer\n",
    "\n",
    "float() – Converts to float\n",
    "\n",
    "str() – Converts to string\n",
    "\n",
    "bool() – Converts to Boolean"
   ]
  },
  {
   "cell_type": "raw",
   "id": "3223f94e-9e15-42ed-84fa-bc8a311cf6f4",
   "metadata": {},
   "source": [
    "10. What is the difference between implicit and explicit type casting?\n",
    "\n",
    "Type casting is the process of converting one data type into another. In Python, there are two types of type casting:\n",
    "Implicit: Python handles it automatically.\n",
    "Explicit: You tell Python to convert the type."
   ]
  },
  {
   "cell_type": "raw",
   "id": "6ad575fa-961f-4928-b06b-3a371d565306",
   "metadata": {},
   "source": [
    "11. What is the purpose of conditional statements in Python?\n",
    "\n",
    "The purpose of conditional statements in Python is to allow a program to make decisions and execute certain blocks of code based on specific conditions.\n",
    "\n",
    "Conditional statements help control the flow of a program by checking whether a condition is True or False"
   ]
  },
  {
   "cell_type": "raw",
   "id": "90103956-3e07-4cb9-9005-7fc672b4f7c9",
   "metadata": {},
   "source": [
    "12. How does the elif statement work?\n",
    "\n",
    "The elif statement in Python stands for \"else if\". It is used to check multiple conditions one by one after an if statement.\n",
    "Python checks each condition from top to bottom.\n",
    "The first condition that is True will execute, and the rest will be skipped.\n",
    "If none of the conditions are True, the else block (if present) will run."
   ]
  },
  {
   "cell_type": "raw",
   "id": "b4305e0e-15c5-42e1-b7cc-e0563affb3f0",
   "metadata": {},
   "source": [
    "13. What is the difference between for and while loops in Python?\n",
    "\n",
    "Both for and while loops are used to repeat a block of code, but they work differently based on how repetition is controlled.\n",
    "for loop is count-controlled.\n",
    "while loop is condition-controlled."
   ]
  },
  {
   "cell_type": "raw",
   "id": "32e422e0-74be-4834-9c2f-c2d8566ff1a0",
   "metadata": {},
   "source": [
    "14.Describe a scenario where a while loop is more suitable than a for loop:\n",
    "\n",
    "A while loop is more suitable when you don’t know in advance how many times the loop needs to run — for example, when you're waiting for user input or checking a condition that changes during execution.\n",
    "\n",
    "Scenario Example:\n",
    "Suppose you are writing a program that asks the user to enter a password. You want the loop to continue until the correct password is entered, but you don’t know how many tries the user will take."
   ]
  },
  {
   "cell_type": "code",
   "execution_count": 10,
   "id": "445ece6d-bf3a-43d0-9028-7176a0fd99b2",
   "metadata": {},
   "outputs": [],
   "source": [
    "#Practical Questions"
   ]
  },
  {
   "cell_type": "code",
   "execution_count": 12,
   "id": "5122c1cc-e248-47d4-9fd7-2e569d065218",
   "metadata": {},
   "outputs": [
    {
     "name": "stdout",
     "output_type": "stream",
     "text": [
      "hello, world!\n"
     ]
    }
   ],
   "source": [
    "#1\n",
    "print (\"hello, world!\")"
   ]
  },
  {
   "cell_type": "code",
   "execution_count": 17,
   "id": "b820e0fa-d9a5-4400-b9b9-3d353c44d930",
   "metadata": {},
   "outputs": [
    {
     "name": "stdout",
     "output_type": "stream",
     "text": [
      "krutik 22\n"
     ]
    }
   ],
   "source": [
    "#2\n",
    "name = \"krutik\"\n",
    "Age = \"22\"\n",
    "print(name, Age)"
   ]
  },
  {
   "cell_type": "code",
   "execution_count": 29,
   "id": "b97aa7a9-e045-41a1-9eaa-b1f966830f70",
   "metadata": {},
   "outputs": [
    {
     "data": {
      "text/plain": [
       "['False',\n",
       " 'None',\n",
       " 'True',\n",
       " 'and',\n",
       " 'as',\n",
       " 'assert',\n",
       " 'async',\n",
       " 'await',\n",
       " 'break',\n",
       " 'class',\n",
       " 'continue',\n",
       " 'def',\n",
       " 'del',\n",
       " 'elif',\n",
       " 'else',\n",
       " 'except',\n",
       " 'finally',\n",
       " 'for',\n",
       " 'from',\n",
       " 'global',\n",
       " 'if',\n",
       " 'import',\n",
       " 'in',\n",
       " 'is',\n",
       " 'lambda',\n",
       " 'nonlocal',\n",
       " 'not',\n",
       " 'or',\n",
       " 'pass',\n",
       " 'raise',\n",
       " 'return',\n",
       " 'try',\n",
       " 'while',\n",
       " 'with',\n",
       " 'yield']"
      ]
     },
     "execution_count": 29,
     "metadata": {},
     "output_type": "execute_result"
    }
   ],
   "source": [
    "#3\n",
    "keyword.kwlist"
   ]
  },
  {
   "cell_type": "code",
   "execution_count": 30,
   "id": "c5f666ad-762c-4c43-a60f-978d1ef7538f",
   "metadata": {},
   "outputs": [
    {
     "name": "stdin",
     "output_type": "stream",
     "text": [
      "Enter a word:  while\n"
     ]
    },
    {
     "name": "stdout",
     "output_type": "stream",
     "text": [
      "'while' is a Python keyword.\n"
     ]
    }
   ],
   "source": [
    "#4\n",
    "import keyword\n",
    "\n",
    "word = input(\"Enter a word: \")\n",
    "\n",
    "if keyword.iskeyword(word):\n",
    "    print(f\"'{word}' is a Python keyword.\")\n",
    "else:\n",
    "    print(f\"'{word}' is NOT a Python keyword.\")\n"
   ]
  },
  {
   "cell_type": "code",
   "execution_count": 31,
   "id": "286b5bde-6674-4ba6-a59a-c1ea15ea6ffc",
   "metadata": {},
   "outputs": [],
   "source": [
    "#5\n",
    "list = [1, 2, 3, 4, 5]\n",
    "list[1] = 20"
   ]
  },
  {
   "cell_type": "code",
   "execution_count": 32,
   "id": "7e1f21a0-c0ce-4ad0-883e-c3cddbb77a45",
   "metadata": {},
   "outputs": [
    {
     "data": {
      "text/plain": [
       "[1, 20, 3, 4, 5]"
      ]
     },
     "execution_count": 32,
     "metadata": {},
     "output_type": "execute_result"
    }
   ],
   "source": [
    "list"
   ]
  },
  {
   "cell_type": "code",
   "execution_count": 33,
   "id": "6606c7c2-6c6a-4bd3-b47d-1caa241d7e42",
   "metadata": {},
   "outputs": [],
   "source": [
    "#6"
   ]
  },
  {
   "cell_type": "code",
   "execution_count": 52,
   "id": "16723ccd-c189-4dd2-bd8c-edc4d7bc08f6",
   "metadata": {},
   "outputs": [
    {
     "name": "stdin",
     "output_type": "stream",
     "text": [
      "enter first number 10\n",
      "enter second number 5\n"
     ]
    }
   ],
   "source": [
    "#7\n",
    "a = float(input(\"enter first number\"))\n",
    "b = float(input(\"enter second number\"))"
   ]
  },
  {
   "cell_type": "code",
   "execution_count": 53,
   "id": "4e9fe620-dd05-4c42-9d1e-10fdad6532f1",
   "metadata": {},
   "outputs": [
    {
     "data": {
      "text/plain": [
       "15.0"
      ]
     },
     "execution_count": 53,
     "metadata": {},
     "output_type": "execute_result"
    }
   ],
   "source": [
    "add =(a + b)\n",
    "add"
   ]
  },
  {
   "cell_type": "code",
   "execution_count": 54,
   "id": "c656a8d8-7803-436f-b0be-ef451d97e8eb",
   "metadata": {},
   "outputs": [
    {
     "data": {
      "text/plain": [
       "5.0"
      ]
     },
     "execution_count": 54,
     "metadata": {},
     "output_type": "execute_result"
    }
   ],
   "source": [
    "subrect =(a-b)\n",
    "subrect"
   ]
  },
  {
   "cell_type": "code",
   "execution_count": 55,
   "id": "3214b347-e5c0-474c-ae6a-6ec9305a9a93",
   "metadata": {},
   "outputs": [
    {
     "data": {
      "text/plain": [
       "50.0"
      ]
     },
     "execution_count": 55,
     "metadata": {},
     "output_type": "execute_result"
    }
   ],
   "source": [
    "multi =(a * b)\n",
    "multi"
   ]
  },
  {
   "cell_type": "code",
   "execution_count": 56,
   "id": "121a5d89-4057-4553-aedd-6356fadc64fc",
   "metadata": {},
   "outputs": [
    {
     "data": {
      "text/plain": [
       "2.0"
      ]
     },
     "execution_count": 56,
     "metadata": {},
     "output_type": "execute_result"
    }
   ],
   "source": [
    "division =(a / b)\n",
    "division"
   ]
  },
  {
   "cell_type": "code",
   "execution_count": 69,
   "id": "0d5f34ec-53a0-42ae-8852-7dab6b1810d2",
   "metadata": {},
   "outputs": [
    {
     "name": "stdout",
     "output_type": "stream",
     "text": [
      "B is greater\n"
     ]
    }
   ],
   "source": [
    "#8\n",
    "a = 3\n",
    "if a > 5 and b > 2:\n",
    "    print(\"Both numbers are greater\")\n",
    "else:\n",
    "    print(\"B is greater\")"
   ]
  },
  {
   "cell_type": "code",
   "execution_count": 73,
   "id": "802471ea-35c5-4ae0-808f-2d716937ed56",
   "metadata": {},
   "outputs": [
    {
     "name": "stdout",
     "output_type": "stream",
     "text": [
      "Both numbers are greatere\n"
     ]
    }
   ],
   "source": [
    "a = 1\n",
    "if a > 5 or b > 2:\n",
    "    print(\"Both numbers are greatere\")\n",
    "else:\n",
    "    print(\"B is greater\")"
   ]
  },
  {
   "cell_type": "code",
   "execution_count": 76,
   "id": "e7a927a9-492b-4b64-9e2a-509f55fd7668",
   "metadata": {},
   "outputs": [
    {
     "data": {
      "text/plain": [
       "str"
      ]
     },
     "execution_count": 76,
     "metadata": {},
     "output_type": "execute_result"
    }
   ],
   "source": [
    "#9\n",
    "a = \"10\"\n",
    "type(a)"
   ]
  },
  {
   "cell_type": "code",
   "execution_count": 77,
   "id": "0c7f2279-704b-476f-8558-e8fdcbbb96fb",
   "metadata": {},
   "outputs": [
    {
     "data": {
      "text/plain": [
       "10"
      ]
     },
     "execution_count": 77,
     "metadata": {},
     "output_type": "execute_result"
    }
   ],
   "source": [
    "int(a)"
   ]
  },
  {
   "cell_type": "code",
   "execution_count": 78,
   "id": "7ef9fbef-c860-4d3e-a300-54a529e15e88",
   "metadata": {},
   "outputs": [
    {
     "data": {
      "text/plain": [
       "10.0"
      ]
     },
     "execution_count": 78,
     "metadata": {},
     "output_type": "execute_result"
    }
   ],
   "source": [
    "float(a)"
   ]
  },
  {
   "cell_type": "code",
   "execution_count": 79,
   "id": "3ebde8c5-67cd-4fff-a31b-7d16eae9057d",
   "metadata": {},
   "outputs": [
    {
     "data": {
      "text/plain": [
       "True"
      ]
     },
     "execution_count": 79,
     "metadata": {},
     "output_type": "execute_result"
    }
   ],
   "source": [
    "bool(a)"
   ]
  },
  {
   "cell_type": "code",
   "execution_count": 80,
   "id": "675e0ace-7422-41d2-b2ac-ae4986c15487",
   "metadata": {},
   "outputs": [
    {
     "data": {
      "text/plain": [
       "25"
      ]
     },
     "execution_count": 80,
     "metadata": {},
     "output_type": "execute_result"
    }
   ],
   "source": [
    "#10\n",
    "a = \"10\"\n",
    "b = 15\n",
    "int(a) + b "
   ]
  },
  {
   "cell_type": "code",
   "execution_count": 86,
   "id": "5a2616f9-c401-4165-895f-79b85bc5b374",
   "metadata": {},
   "outputs": [
    {
     "name": "stdout",
     "output_type": "stream",
     "text": [
      "The number is negative.\n"
     ]
    }
   ],
   "source": [
    "#11\n",
    "a = -1\n",
    "if a > 0:\n",
    "    print(\"The number is positive.\")\n",
    "elif a < 0:\n",
    "    print(\"The number is negative.\")\n",
    "else:\n",
    "    print(\"The number is zero.\")"
   ]
  },
  {
   "cell_type": "code",
   "execution_count": 93,
   "id": "06dc15e7-94a6-4bd1-8b92-27e70fb058b5",
   "metadata": {},
   "outputs": [
    {
     "name": "stdout",
     "output_type": "stream",
     "text": [
      "1\n",
      "2\n",
      "3\n",
      "4\n",
      "5\n",
      "6\n",
      "7\n",
      "8\n",
      "9\n",
      "10\n"
     ]
    }
   ],
   "source": [
    "#12\n",
    "for i in range(1, 11):\n",
    "    print(i)\n"
   ]
  },
  {
   "cell_type": "code",
   "execution_count": 94,
   "id": "c94317a8-65ab-4d0a-b1ed-78035ba8f301",
   "metadata": {},
   "outputs": [
    {
     "ename": "NameError",
     "evalue": "name 'total' is not defined",
     "output_type": "error",
     "traceback": [
      "\u001b[1;31m---------------------------------------------------------------------------\u001b[0m",
      "\u001b[1;31mNameError\u001b[0m                                 Traceback (most recent call last)",
      "Cell \u001b[1;32mIn[94], line 3\u001b[0m\n\u001b[0;32m      1\u001b[0m \u001b[38;5;66;03m#13\u001b[39;00m\n\u001b[0;32m      2\u001b[0m \u001b[38;5;28;01mfor\u001b[39;00m i \u001b[38;5;129;01min\u001b[39;00m \u001b[38;5;28mrange\u001b[39m(\u001b[38;5;241m2\u001b[39m, \u001b[38;5;241m51\u001b[39m, \u001b[38;5;241m2\u001b[39m):\n\u001b[1;32m----> 3\u001b[0m     total \u001b[38;5;241m+\u001b[39m\u001b[38;5;241m=\u001b[39m i\n",
      "\u001b[1;31mNameError\u001b[0m: name 'total' is not defined"
     ]
    }
   ],
   "source": [
    "#13\n",
    "for i in range(2, 51, 2):\n",
    "    total += i"
   ]
  },
  {
   "cell_type": "code",
   "execution_count": 96,
   "id": "e93911cb-7cd3-4376-b2e8-5436a16e805d",
   "metadata": {},
   "outputs": [],
   "source": [
    "#14\n",
    "\n"
   ]
  },
  {
   "cell_type": "code",
   "execution_count": 97,
   "id": "70c620cd-3981-45ac-8e69-fcb56b814485",
   "metadata": {},
   "outputs": [],
   "source": [
    "#15"
   ]
  },
  {
   "cell_type": "code",
   "execution_count": null,
   "id": "96a74a6a-d341-4a5d-9ddd-5619907951e4",
   "metadata": {},
   "outputs": [],
   "source": []
  }
 ],
 "metadata": {
  "kernelspec": {
   "display_name": "Python 3 (ipykernel)",
   "language": "python",
   "name": "python3"
  },
  "language_info": {
   "codemirror_mode": {
    "name": "ipython",
    "version": 3
   },
   "file_extension": ".py",
   "mimetype": "text/x-python",
   "name": "python",
   "nbconvert_exporter": "python",
   "pygments_lexer": "ipython3",
   "version": "3.12.7"
  }
 },
 "nbformat": 4,
 "nbformat_minor": 5
}
